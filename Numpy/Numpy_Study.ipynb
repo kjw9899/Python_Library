{
  "nbformat": 4,
  "nbformat_minor": 0,
  "metadata": {
    "colab": {
      "name": "Numpy_Study.ipynb",
      "provenance": []
    },
    "kernelspec": {
      "name": "python3",
      "display_name": "Python 3"
    },
    "language_info": {
      "name": "python"
    }
  },
  "cells": [
    {
      "cell_type": "markdown",
      "source": [
        "## 1번 : creation\n",
        "### 문제\n",
        "주어진 Python list L 을 이용하여 Numpy array로 변환하는 코드를 작성해보세요."
      ],
      "metadata": {
        "id": "7cb3l38jEiJo"
      }
    },
    {
      "cell_type": "code",
      "execution_count": 1,
      "metadata": {
        "colab": {
          "base_uri": "https://localhost:8080/"
        },
        "id": "mhPSOMnDEci_",
        "outputId": "4264abe8-8f75-40a1-e351-73188799d1f7"
      },
      "outputs": [
        {
          "output_type": "stream",
          "name": "stdout",
          "text": [
            "[1 2 3 4 5]\n"
          ]
        }
      ],
      "source": [
        "L = [1, 2, 3, 4, 5]\n",
        "\n",
        "import numpy as np\n",
        "\n",
        "L = np.array(L)\n",
        "print(L)"
      ]
    },
    {
      "cell_type": "markdown",
      "source": [
        "## 2번 : creation (2)\n",
        "### 문제\n",
        "원소가 모두 0이고 크기가 10인 numpy array를 생성하는 코드를 작성해보세요."
      ],
      "metadata": {
        "id": "ttdyeHgZEhWO"
      }
    },
    {
      "cell_type": "code",
      "source": [
        "import numpy as np\n",
        "\n",
        "a = np.zeros(10)\n",
        "a"
      ],
      "metadata": {
        "colab": {
          "base_uri": "https://localhost:8080/"
        },
        "id": "aCLHPCDhEsNs",
        "outputId": "38cf7cbc-e7af-49d5-e37a-649c76f001aa"
      },
      "execution_count": 2,
      "outputs": [
        {
          "output_type": "execute_result",
          "data": {
            "text/plain": [
              "array([0., 0., 0., 0., 0., 0., 0., 0., 0., 0.])"
            ]
          },
          "metadata": {},
          "execution_count": 2
        }
      ]
    },
    {
      "cell_type": "markdown",
      "source": [
        "## 3번 : creation (3)\n",
        "### 문제\n",
        "원소가 모두 32bytes 사이즈의 float 타입을 가지는 numpy array를 생성하는 코드를 작성해보세요."
      ],
      "metadata": {
        "id": "-KUFRRX5Ewum"
      }
    },
    {
      "cell_type": "code",
      "source": [
        "L = [1.1, 2.2, 3.3, -4.4, 5.5]\n",
        "\n",
        "np.array(L,dtype=np.float32)"
      ],
      "metadata": {
        "colab": {
          "base_uri": "https://localhost:8080/"
        },
        "id": "L6_y3T7YEuT0",
        "outputId": "5e694e21-16a1-4925-ece2-3483b3c023ae"
      },
      "execution_count": 3,
      "outputs": [
        {
          "output_type": "execute_result",
          "data": {
            "text/plain": [
              "array([ 1.1,  2.2,  3.3, -4.4,  5.5], dtype=float32)"
            ]
          },
          "metadata": {},
          "execution_count": 3
        }
      ]
    },
    {
      "cell_type": "markdown",
      "source": [
        "## 4번 : creation (4)\n",
        "### 문제\n",
        "1부터 1000까지의 모든 정수를 원소로 하는 numpy array를 생성하는 코드를 작성해보세요."
      ],
      "metadata": {
        "id": "6WaGPOx2E0jV"
      }
    },
    {
      "cell_type": "code",
      "source": [
        "np.arange(1,1001)"
      ],
      "metadata": {
        "colab": {
          "base_uri": "https://localhost:8080/"
        },
        "id": "xmelAxnzEzor",
        "outputId": "d7c02a76-9025-4c75-c00f-b43bbc7a6706"
      },
      "execution_count": 4,
      "outputs": [
        {
          "output_type": "execute_result",
          "data": {
            "text/plain": [
              "array([   1,    2,    3,    4,    5,    6,    7,    8,    9,   10,   11,\n",
              "         12,   13,   14,   15,   16,   17,   18,   19,   20,   21,   22,\n",
              "         23,   24,   25,   26,   27,   28,   29,   30,   31,   32,   33,\n",
              "         34,   35,   36,   37,   38,   39,   40,   41,   42,   43,   44,\n",
              "         45,   46,   47,   48,   49,   50,   51,   52,   53,   54,   55,\n",
              "         56,   57,   58,   59,   60,   61,   62,   63,   64,   65,   66,\n",
              "         67,   68,   69,   70,   71,   72,   73,   74,   75,   76,   77,\n",
              "         78,   79,   80,   81,   82,   83,   84,   85,   86,   87,   88,\n",
              "         89,   90,   91,   92,   93,   94,   95,   96,   97,   98,   99,\n",
              "        100,  101,  102,  103,  104,  105,  106,  107,  108,  109,  110,\n",
              "        111,  112,  113,  114,  115,  116,  117,  118,  119,  120,  121,\n",
              "        122,  123,  124,  125,  126,  127,  128,  129,  130,  131,  132,\n",
              "        133,  134,  135,  136,  137,  138,  139,  140,  141,  142,  143,\n",
              "        144,  145,  146,  147,  148,  149,  150,  151,  152,  153,  154,\n",
              "        155,  156,  157,  158,  159,  160,  161,  162,  163,  164,  165,\n",
              "        166,  167,  168,  169,  170,  171,  172,  173,  174,  175,  176,\n",
              "        177,  178,  179,  180,  181,  182,  183,  184,  185,  186,  187,\n",
              "        188,  189,  190,  191,  192,  193,  194,  195,  196,  197,  198,\n",
              "        199,  200,  201,  202,  203,  204,  205,  206,  207,  208,  209,\n",
              "        210,  211,  212,  213,  214,  215,  216,  217,  218,  219,  220,\n",
              "        221,  222,  223,  224,  225,  226,  227,  228,  229,  230,  231,\n",
              "        232,  233,  234,  235,  236,  237,  238,  239,  240,  241,  242,\n",
              "        243,  244,  245,  246,  247,  248,  249,  250,  251,  252,  253,\n",
              "        254,  255,  256,  257,  258,  259,  260,  261,  262,  263,  264,\n",
              "        265,  266,  267,  268,  269,  270,  271,  272,  273,  274,  275,\n",
              "        276,  277,  278,  279,  280,  281,  282,  283,  284,  285,  286,\n",
              "        287,  288,  289,  290,  291,  292,  293,  294,  295,  296,  297,\n",
              "        298,  299,  300,  301,  302,  303,  304,  305,  306,  307,  308,\n",
              "        309,  310,  311,  312,  313,  314,  315,  316,  317,  318,  319,\n",
              "        320,  321,  322,  323,  324,  325,  326,  327,  328,  329,  330,\n",
              "        331,  332,  333,  334,  335,  336,  337,  338,  339,  340,  341,\n",
              "        342,  343,  344,  345,  346,  347,  348,  349,  350,  351,  352,\n",
              "        353,  354,  355,  356,  357,  358,  359,  360,  361,  362,  363,\n",
              "        364,  365,  366,  367,  368,  369,  370,  371,  372,  373,  374,\n",
              "        375,  376,  377,  378,  379,  380,  381,  382,  383,  384,  385,\n",
              "        386,  387,  388,  389,  390,  391,  392,  393,  394,  395,  396,\n",
              "        397,  398,  399,  400,  401,  402,  403,  404,  405,  406,  407,\n",
              "        408,  409,  410,  411,  412,  413,  414,  415,  416,  417,  418,\n",
              "        419,  420,  421,  422,  423,  424,  425,  426,  427,  428,  429,\n",
              "        430,  431,  432,  433,  434,  435,  436,  437,  438,  439,  440,\n",
              "        441,  442,  443,  444,  445,  446,  447,  448,  449,  450,  451,\n",
              "        452,  453,  454,  455,  456,  457,  458,  459,  460,  461,  462,\n",
              "        463,  464,  465,  466,  467,  468,  469,  470,  471,  472,  473,\n",
              "        474,  475,  476,  477,  478,  479,  480,  481,  482,  483,  484,\n",
              "        485,  486,  487,  488,  489,  490,  491,  492,  493,  494,  495,\n",
              "        496,  497,  498,  499,  500,  501,  502,  503,  504,  505,  506,\n",
              "        507,  508,  509,  510,  511,  512,  513,  514,  515,  516,  517,\n",
              "        518,  519,  520,  521,  522,  523,  524,  525,  526,  527,  528,\n",
              "        529,  530,  531,  532,  533,  534,  535,  536,  537,  538,  539,\n",
              "        540,  541,  542,  543,  544,  545,  546,  547,  548,  549,  550,\n",
              "        551,  552,  553,  554,  555,  556,  557,  558,  559,  560,  561,\n",
              "        562,  563,  564,  565,  566,  567,  568,  569,  570,  571,  572,\n",
              "        573,  574,  575,  576,  577,  578,  579,  580,  581,  582,  583,\n",
              "        584,  585,  586,  587,  588,  589,  590,  591,  592,  593,  594,\n",
              "        595,  596,  597,  598,  599,  600,  601,  602,  603,  604,  605,\n",
              "        606,  607,  608,  609,  610,  611,  612,  613,  614,  615,  616,\n",
              "        617,  618,  619,  620,  621,  622,  623,  624,  625,  626,  627,\n",
              "        628,  629,  630,  631,  632,  633,  634,  635,  636,  637,  638,\n",
              "        639,  640,  641,  642,  643,  644,  645,  646,  647,  648,  649,\n",
              "        650,  651,  652,  653,  654,  655,  656,  657,  658,  659,  660,\n",
              "        661,  662,  663,  664,  665,  666,  667,  668,  669,  670,  671,\n",
              "        672,  673,  674,  675,  676,  677,  678,  679,  680,  681,  682,\n",
              "        683,  684,  685,  686,  687,  688,  689,  690,  691,  692,  693,\n",
              "        694,  695,  696,  697,  698,  699,  700,  701,  702,  703,  704,\n",
              "        705,  706,  707,  708,  709,  710,  711,  712,  713,  714,  715,\n",
              "        716,  717,  718,  719,  720,  721,  722,  723,  724,  725,  726,\n",
              "        727,  728,  729,  730,  731,  732,  733,  734,  735,  736,  737,\n",
              "        738,  739,  740,  741,  742,  743,  744,  745,  746,  747,  748,\n",
              "        749,  750,  751,  752,  753,  754,  755,  756,  757,  758,  759,\n",
              "        760,  761,  762,  763,  764,  765,  766,  767,  768,  769,  770,\n",
              "        771,  772,  773,  774,  775,  776,  777,  778,  779,  780,  781,\n",
              "        782,  783,  784,  785,  786,  787,  788,  789,  790,  791,  792,\n",
              "        793,  794,  795,  796,  797,  798,  799,  800,  801,  802,  803,\n",
              "        804,  805,  806,  807,  808,  809,  810,  811,  812,  813,  814,\n",
              "        815,  816,  817,  818,  819,  820,  821,  822,  823,  824,  825,\n",
              "        826,  827,  828,  829,  830,  831,  832,  833,  834,  835,  836,\n",
              "        837,  838,  839,  840,  841,  842,  843,  844,  845,  846,  847,\n",
              "        848,  849,  850,  851,  852,  853,  854,  855,  856,  857,  858,\n",
              "        859,  860,  861,  862,  863,  864,  865,  866,  867,  868,  869,\n",
              "        870,  871,  872,  873,  874,  875,  876,  877,  878,  879,  880,\n",
              "        881,  882,  883,  884,  885,  886,  887,  888,  889,  890,  891,\n",
              "        892,  893,  894,  895,  896,  897,  898,  899,  900,  901,  902,\n",
              "        903,  904,  905,  906,  907,  908,  909,  910,  911,  912,  913,\n",
              "        914,  915,  916,  917,  918,  919,  920,  921,  922,  923,  924,\n",
              "        925,  926,  927,  928,  929,  930,  931,  932,  933,  934,  935,\n",
              "        936,  937,  938,  939,  940,  941,  942,  943,  944,  945,  946,\n",
              "        947,  948,  949,  950,  951,  952,  953,  954,  955,  956,  957,\n",
              "        958,  959,  960,  961,  962,  963,  964,  965,  966,  967,  968,\n",
              "        969,  970,  971,  972,  973,  974,  975,  976,  977,  978,  979,\n",
              "        980,  981,  982,  983,  984,  985,  986,  987,  988,  989,  990,\n",
              "        991,  992,  993,  994,  995,  996,  997,  998,  999, 1000])"
            ]
          },
          "metadata": {},
          "execution_count": 4
        }
      ]
    },
    {
      "cell_type": "markdown",
      "source": [
        "## 5번 : creation (5)\n",
        "### 문제\n",
        "0부터 1 사이의 실수를 0.1 간격으로 가지는 원소로 하는 numpy array를 생성하는 코드를 작성해보세요."
      ],
      "metadata": {
        "id": "zOWO0QgUE7r4"
      }
    },
    {
      "cell_type": "code",
      "source": [
        "np.arange(0,1.1,0.1)"
      ],
      "metadata": {
        "colab": {
          "base_uri": "https://localhost:8080/"
        },
        "id": "Yv0b5kMxE5h8",
        "outputId": "cb9723cb-da50-4904-8b27-9da9ac61d525"
      },
      "execution_count": 5,
      "outputs": [
        {
          "output_type": "execute_result",
          "data": {
            "text/plain": [
              "array([0. , 0.1, 0.2, 0.3, 0.4, 0.5, 0.6, 0.7, 0.8, 0.9, 1. ])"
            ]
          },
          "metadata": {},
          "execution_count": 5
        }
      ]
    },
    {
      "cell_type": "markdown",
      "source": [
        "## 6번 : array data type\n",
        "### 문제\n",
        "numpy 라이브러리의 numpy array가 가질 수 있는 data type을 모두 서술해보세요."
      ],
      "metadata": {
        "id": "iwdm4xNOFWlP"
      }
    },
    {
      "cell_type": "markdown",
      "source": [
        "numpy.bool_\n",
        "\n",
        "bool\n",
        "\n",
        "Boolean (True or False) stored as a byte\n",
        "\n",
        "numpy.byte\n",
        "\n",
        "signed char\n",
        "\n",
        "Platform-defined\n",
        "\n",
        "numpy.ubyte\n",
        "\n",
        "unsigned char\n",
        "\n",
        "Platform-defined\n",
        "\n",
        "numpy.short\n",
        "\n",
        "short\n",
        "\n",
        "Platform-defined\n",
        "\n",
        "numpy.ushort\n",
        "\n",
        "unsigned short\n",
        "\n",
        "Platform-defined\n",
        "\n",
        "numpy.intc\n",
        "\n",
        "int\n",
        "\n",
        "Platform-defined\n",
        "\n",
        "numpy.uintc\n",
        "\n",
        "unsigned int\n",
        "\n",
        "Platform-defined\n",
        "\n",
        "numpy.int_\n",
        "\n",
        "long\n",
        "\n",
        "Platform-defined\n",
        "\n",
        "numpy.uint\n",
        "\n",
        "unsigned long\n",
        "\n",
        "Platform-defined\n",
        "\n",
        "numpy.longlong\n",
        "\n",
        "long long\n",
        "\n",
        "Platform-defined\n",
        "\n",
        "numpy.ulonglong\n",
        "\n",
        "unsigned long long\n",
        "\n",
        "Platform-defined\n",
        "\n",
        "numpy.half / numpy.float16\n",
        "\n",
        "Half precision float: sign bit, 5 bits exponent, 10 bits mantissa\n",
        "\n",
        "numpy.single\n",
        "\n",
        "float\n",
        "\n",
        "Platform-defined single precision float: typically sign bit, 8 bits exponent, 23 bits mantissa\n",
        "\n",
        "numpy.double\n",
        "\n",
        "double\n",
        "\n",
        "Platform-defined double precision float: typically sign bit, 11 bits exponent, 52 bits mantissa.\n",
        "\n",
        "numpy.longdouble\n",
        "\n",
        "long double\n",
        "\n",
        "Platform-defined extended-precision float\n",
        "\n",
        "numpy.csingle\n",
        "\n",
        "float complex\n",
        "\n",
        "Complex number, represented by two single-precision floats (real and imaginary components)\n",
        "\n",
        "numpy.cdouble\n",
        "\n",
        "double complex\n",
        "\n",
        "Complex number, represented by two double-precision floats (real and imaginary components).\n",
        "\n",
        "numpy.clongdouble"
      ],
      "metadata": {
        "id": "QbWCPl_KFr3G"
      }
    },
    {
      "cell_type": "markdown",
      "source": [
        "## 7번 : array data type (2)\n",
        "### 문제\n",
        "numpy array 내에서의 모든 원소가 **1) 동일한 data type**을 가져야 하는 이유와, 2) **동일한 data type을 가지는 것으로 python list에 비해 갖게되는 장점**에 대해 서술해보세요."
      ],
      "metadata": {
        "id": "VfUqaHSRFgpH"
      }
    },
    {
      "cell_type": "markdown",
      "source": [
        "1. Numpy 행렬은 연속적인 메모리 위치에 저장된 동일한 데이터 타입의 집합이다. List는 비연속적인 메모리 위치에 저장된 동일한 데이터 타입의 집합\n",
        "\n",
        "2. NumPy 패키지는 태스크를 여러 조각으로 나눈 다음 모든 조각을 병렬로 처리한다."
      ],
      "metadata": {
        "id": "kE0njdA-FvVC"
      }
    },
    {
      "cell_type": "markdown",
      "source": [
        "## 8번 : indexing\n",
        "### 문제\n",
        "주어진 numpy array의 두번째 원소를 찾아서 출력하는 코드를 작성해보세요."
      ],
      "metadata": {
        "id": "pZ_4d71tFym1"
      }
    },
    {
      "cell_type": "code",
      "source": [
        "import numpy as np\n",
        "\n",
        "arr = np.array([31, 24, 37, 14, 25])\n",
        "arr[1]"
      ],
      "metadata": {
        "colab": {
          "base_uri": "https://localhost:8080/"
        },
        "id": "OZGG02MCFcjz",
        "outputId": "98743b34-5dc0-4c13-d143-cce859436a51"
      },
      "execution_count": 7,
      "outputs": [
        {
          "output_type": "execute_result",
          "data": {
            "text/plain": [
              "24"
            ]
          },
          "metadata": {},
          "execution_count": 7
        }
      ]
    },
    {
      "cell_type": "markdown",
      "source": [
        "## 9번 : indexing (2)\n",
        "### 문제\n",
        "주어진 다차원 numpy array에서 두번째 행의 세번째 원소를 찾는 코드를 작성해보세요."
      ],
      "metadata": {
        "id": "8LF_ZQFFGCQ4"
      }
    },
    {
      "cell_type": "code",
      "source": [
        "arr2 = np.array([[1, 2, 3], [4, 5, 6], [7, 8, 9]])\n",
        "arr2[1][2]"
      ],
      "metadata": {
        "colab": {
          "base_uri": "https://localhost:8080/"
        },
        "id": "WOH64BmGF1WY",
        "outputId": "a6234544-2f4e-4770-c4a9-a0682528f7bb"
      },
      "execution_count": 8,
      "outputs": [
        {
          "output_type": "execute_result",
          "data": {
            "text/plain": [
              "6"
            ]
          },
          "metadata": {},
          "execution_count": 8
        }
      ]
    },
    {
      "cell_type": "markdown",
      "source": [
        "## 10번 : fancy indexing\n",
        "### 문제\n",
        "주어진 2차원 numpy array는 행렬을 나타냅니다.\n",
        "\n",
        "주어진 행렬에서 첫번째 행과, 두번째 열을 출력하는 코드를 작성해보세요."
      ],
      "metadata": {
        "id": "90QW7dL2GHtW"
      }
    },
    {
      "cell_type": "code",
      "source": [
        "arr2 = np.array([ [10, 9, 8], [7, 6, 5], [4, 3, 2] ])\n",
        "\n",
        "arr2[0]\n",
        "arr2[:,1]"
      ],
      "metadata": {
        "colab": {
          "base_uri": "https://localhost:8080/"
        },
        "id": "FjgLOuQlGFgj",
        "outputId": "8d9221d4-f5d1-484c-ee94-7ea437deb8bb"
      },
      "execution_count": 9,
      "outputs": [
        {
          "output_type": "execute_result",
          "data": {
            "text/plain": [
              "array([9, 6, 3])"
            ]
          },
          "metadata": {},
          "execution_count": 9
        }
      ]
    },
    {
      "cell_type": "markdown",
      "source": [
        "## 11번 : array masking\n",
        "### 문제\n",
        "주어진 numpy array 에 대해서, 30보다 큰 숫자만 뽑는 코드를 작성하세요.\n",
        "(단, 반복문을 통한 방법이 아닌 numpy array masking을 사용하세요.)"
      ],
      "metadata": {
        "id": "B5APoG3JGOBu"
      }
    },
    {
      "cell_type": "code",
      "source": [
        "import numpy as np\n",
        "import numpy.ma as ma\n",
        "\n",
        "arr = np.array([30, 4, 550, 9, 112, 10000, 15, 21])\n",
        "arr = ma.masked_greater(arr,30)\n",
        "arr"
      ],
      "metadata": {
        "colab": {
          "base_uri": "https://localhost:8080/"
        },
        "id": "Zcc6uJobGLmC",
        "outputId": "c84e7493-169b-48c6-d407-b00b76b9b144"
      },
      "execution_count": 10,
      "outputs": [
        {
          "output_type": "execute_result",
          "data": {
            "text/plain": [
              "masked_array(data=[30, 4, --, 9, --, --, 15, 21],\n",
              "             mask=[False, False,  True, False,  True,  True, False, False],\n",
              "       fill_value=999999)"
            ]
          },
          "metadata": {},
          "execution_count": 10
        }
      ]
    },
    {
      "cell_type": "markdown",
      "source": [
        "## 12번 : max min\n",
        "### 문제\n",
        "주어진 numpy array의 최소/최대값을 찾아서 출력하는 코드를 작성해보세요."
      ],
      "metadata": {
        "id": "e4IiN9tFGUaX"
      }
    },
    {
      "cell_type": "code",
      "source": [
        "arr = np.array([50, 1110, 1, 230, 3, 40, 517590, -41, -4959])\n",
        "\n",
        "print(max(arr))\n",
        "print(min(arr))"
      ],
      "metadata": {
        "colab": {
          "base_uri": "https://localhost:8080/"
        },
        "id": "YytuvJ-oGRKD",
        "outputId": "c52cd7a4-e25f-42de-8272-c498d40675cf"
      },
      "execution_count": 11,
      "outputs": [
        {
          "output_type": "stream",
          "name": "stdout",
          "text": [
            "517590\n",
            "-4959\n"
          ]
        }
      ]
    },
    {
      "cell_type": "markdown",
      "source": [
        "## 13번 : max min indexing\n",
        "### 문제\n",
        "주어진 numpy array의 최소값과 최대값에 해당하는 원소의 index를 찾아서 출력하는 코드를 작성해보세요."
      ],
      "metadata": {
        "id": "4pmeRvkcGaD_"
      }
    },
    {
      "cell_type": "code",
      "source": [
        "arr = np.array([1, 33, 5502, 221, -591, 0, -9, 50491])\n",
        "\n",
        "print(arr.argmax())\n",
        "print(arr.argmin())"
      ],
      "metadata": {
        "colab": {
          "base_uri": "https://localhost:8080/"
        },
        "id": "eaUGYVt3GX0K",
        "outputId": "bb757631-1ba0-4129-cce6-ec3527576e3d"
      },
      "execution_count": 13,
      "outputs": [
        {
          "output_type": "stream",
          "name": "stdout",
          "text": [
            "7\n",
            "4\n"
          ]
        }
      ]
    },
    {
      "cell_type": "markdown",
      "source": [
        "## 14번 : concat\n",
        "### 문제\n",
        "주어진 두 개의 numpy array를 하나로 합치는 코드를 작성하세요."
      ],
      "metadata": {
        "id": "POFnhxlsGi2W"
      }
    },
    {
      "cell_type": "code",
      "source": [
        "arr1 = np.array([1, 2, 3, 4, 5])\n",
        "arr2 = np.array([6, 7, 8, 9])\n",
        "\n",
        "arr = np.concatenate((arr1,arr2))\n",
        "arr"
      ],
      "metadata": {
        "colab": {
          "base_uri": "https://localhost:8080/"
        },
        "id": "RS9-NJBzGdI6",
        "outputId": "fd4dcd4e-0e3b-4b08-f75c-781b6afe0e3a"
      },
      "execution_count": 14,
      "outputs": [
        {
          "output_type": "execute_result",
          "data": {
            "text/plain": [
              "array([1, 2, 3, 4, 5, 6, 7, 8, 9])"
            ]
          },
          "metadata": {},
          "execution_count": 14
        }
      ]
    },
    {
      "cell_type": "markdown",
      "source": [
        "## 15번 : concat (2)\n",
        "### 문제\n",
        "주어진 1차원 numpy array 3개를 연결하여, 하나의 행렬을 구성하는 코드를 작성하세요."
      ],
      "metadata": {
        "id": "3HQNBPk1Goyy"
      }
    },
    {
      "cell_type": "code",
      "source": [
        "arr1 = np.array([1, 2, 3])\n",
        "arr2 = np.array([4, 5, 6])\n",
        "arr3 = np.array([7, 8, 9])\n",
        "\n",
        "np.vstack((arr1,arr2,arr3))"
      ],
      "metadata": {
        "colab": {
          "base_uri": "https://localhost:8080/"
        },
        "id": "HnzmBuh_Gl-S",
        "outputId": "252d7b59-3be5-49d0-86f1-28472598c2b8"
      },
      "execution_count": 15,
      "outputs": [
        {
          "output_type": "execute_result",
          "data": {
            "text/plain": [
              "array([[1, 2, 3],\n",
              "       [4, 5, 6],\n",
              "       [7, 8, 9]])"
            ]
          },
          "metadata": {},
          "execution_count": 15
        }
      ]
    },
    {
      "cell_type": "markdown",
      "source": [
        "## 16번 : vector\n",
        "### 문제\n",
        "두개의 벡터  v1v1, v2v2가 numpy array로 주어졌을 때, 두 벡터의 합 v1+v2v1+v2 을 구하는 코드를 작성하세요."
      ],
      "metadata": {
        "id": "5tGYW-GWG47f"
      }
    },
    {
      "cell_type": "code",
      "source": [
        "v1 = np.array([1, 2, 3])\n",
        "v2 = np.array([4, -1, 2])\n",
        "\n",
        "v1+v2"
      ],
      "metadata": {
        "colab": {
          "base_uri": "https://localhost:8080/"
        },
        "id": "DPMpeVRCG4rp",
        "outputId": "a654c727-0e61-4d0e-9a35-2f12b4ce28c7"
      },
      "execution_count": 16,
      "outputs": [
        {
          "output_type": "execute_result",
          "data": {
            "text/plain": [
              "array([5, 1, 5])"
            ]
          },
          "metadata": {},
          "execution_count": 16
        }
      ]
    },
    {
      "cell_type": "markdown",
      "source": [
        "## 17번 : vector (2)\n",
        "### 문제\n",
        "두개의 벡터 v1, v2v1,v2가 numpy array로 주어졌을 때, 두 벡터의 내적 v1 ⋅ v2v1⋅v2 을 구하는 코드를 작성하세요."
      ],
      "metadata": {
        "id": "g2vsqbwIG95Z"
      }
    },
    {
      "cell_type": "code",
      "source": [
        "v1 = np.array([1, 2, 3])\n",
        "v2 = np.array([4, -1, 2])\n",
        "\n",
        "np.dot(v1,v2)\n",
        "np.inner(v1,v2)"
      ],
      "metadata": {
        "colab": {
          "base_uri": "https://localhost:8080/"
        },
        "id": "LOkzGFCTGrfS",
        "outputId": "4c7aa472-fc73-4078-c7fc-ed45c0a91903"
      },
      "execution_count": 17,
      "outputs": [
        {
          "output_type": "execute_result",
          "data": {
            "text/plain": [
              "8"
            ]
          },
          "metadata": {},
          "execution_count": 17
        }
      ]
    },
    {
      "cell_type": "markdown",
      "source": [
        "## 18번 : broadcasting\n",
        "### 문제\n",
        "주어진 numpy array의 모든 원소에 각각 3을 더하는 코드를 작성하세요."
      ],
      "metadata": {
        "id": "7fJyFRVTHGRW"
      }
    },
    {
      "cell_type": "code",
      "source": [
        "arr1 = np.array([1, 2, 3])\n",
        "arr1+3"
      ],
      "metadata": {
        "colab": {
          "base_uri": "https://localhost:8080/"
        },
        "id": "YwByObuMHD4h",
        "outputId": "67b8c56b-6aac-433c-e665-9f78ca772271"
      },
      "execution_count": 18,
      "outputs": [
        {
          "output_type": "execute_result",
          "data": {
            "text/plain": [
              "array([4, 5, 6])"
            ]
          },
          "metadata": {},
          "execution_count": 18
        }
      ]
    },
    {
      "cell_type": "markdown",
      "source": [
        "## 19번 : broadcasting (2)\n",
        "### 문제\n",
        "numpy array로 표현된 행렬에 모든 행에 같은 벡터를 더하는 연산을 수행하는 코드를 작성하세요."
      ],
      "metadata": {
        "id": "xFOaBQCWHL5L"
      }
    },
    {
      "cell_type": "code",
      "source": [
        "mat1 = np.array([[1, 2, 3], [4, 5, 6], [7, 8, 9]])\n",
        "v1 = np.array([-1, -2, -3])\n",
        "\n",
        "mat1 + v1"
      ],
      "metadata": {
        "colab": {
          "base_uri": "https://localhost:8080/"
        },
        "id": "A2WZ2-h7HJYY",
        "outputId": "36ad7116-9dc1-47ff-98be-ef846081946e"
      },
      "execution_count": 19,
      "outputs": [
        {
          "output_type": "execute_result",
          "data": {
            "text/plain": [
              "array([[0, 0, 0],\n",
              "       [3, 3, 3],\n",
              "       [6, 6, 6]])"
            ]
          },
          "metadata": {},
          "execution_count": 19
        }
      ]
    },
    {
      "cell_type": "markdown",
      "source": [
        "## 20번 : reshaping\n",
        "### 문제\n",
        "이미지 데이터를 처리할 때, numpy array를 통해서 이미지 데이터를 표현하면 \"가로 pixel X 세로 pixel\" 크기의 numpy array가 됩니다.\n",
        "***5x5의 크기를 가지는 이미지가 numpy array로 표현***되었을 때, 이를 1차원 벡터로 변환하는 코드를 작성해보세요."
      ],
      "metadata": {
        "id": "epGSmx6lHY4H"
      }
    },
    {
      "cell_type": "code",
      "source": [
        "img = np.random.random((5, 5))\n",
        "img\n",
        "np.reshape(img,(1,-1))"
      ],
      "metadata": {
        "colab": {
          "base_uri": "https://localhost:8080/"
        },
        "id": "edJvXFFeHVIA",
        "outputId": "a5fd8418-5dc0-4d5c-f25c-acddc4814eb4"
      },
      "execution_count": 20,
      "outputs": [
        {
          "output_type": "execute_result",
          "data": {
            "text/plain": [
              "array([[0.74555229, 0.54595301, 0.01296621, 0.0033709 , 0.26773882,\n",
              "        0.33265466, 0.74286587, 0.52474453, 0.2025602 , 0.45177781,\n",
              "        0.07175573, 0.04588806, 0.11764906, 0.3813456 , 0.28229457,\n",
              "        0.55239003, 0.20598034, 0.53643619, 0.63726016, 0.71918814,\n",
              "        0.05734998, 0.82943396, 0.65098411, 0.63785621, 0.93850151]])"
            ]
          },
          "metadata": {},
          "execution_count": 20
        }
      ]
    },
    {
      "cell_type": "markdown",
      "source": [
        "## 21번 : reshaping (2)\n",
        "### 문제\n",
        "행의 개수를 모르는 행렬이 있다고 할 때, 이 행렬을 1차원 벡터로 변환하는 코드를 작성하세요."
      ],
      "metadata": {
        "id": "xn39jvQXHrrP"
      }
    },
    {
      "cell_type": "code",
      "source": [
        "N = int(input(\"N? : \")) # 사용자 입력으로 받은 자연수 N\n",
        "data = np.random.random((N, 6)) # N x 6 matrix\n",
        "np.reshape(data,(1,-1))"
      ],
      "metadata": {
        "colab": {
          "base_uri": "https://localhost:8080/"
        },
        "id": "48vHTeRbHfkR",
        "outputId": "0b5f5068-1db1-4037-f81e-7fec5fb1bab7"
      },
      "execution_count": 21,
      "outputs": [
        {
          "name": "stdout",
          "output_type": "stream",
          "text": [
            "N? : 3\n"
          ]
        },
        {
          "output_type": "execute_result",
          "data": {
            "text/plain": [
              "array([[0.54152784, 0.65585423, 0.09341713, 0.25177748, 0.51727302,\n",
              "        0.53355753, 0.80879634, 0.38362563, 0.47845019, 0.32532726,\n",
              "        0.48697782, 0.81521124, 0.62587269, 0.88675536, 0.65082192,\n",
              "        0.02744626, 0.00250697, 0.5437104 ]])"
            ]
          },
          "metadata": {},
          "execution_count": 21
        }
      ]
    },
    {
      "cell_type": "markdown",
      "source": [
        "## 22번 : math function\n",
        "### 문제\n",
        "사용자에게 입력받은 정수 x에 대한 sine(sinsin), cosine(coscos), tangent(tantan) 함수 값을 구하는 코드를 작성해보세요.\n",
        "(단, numpy 라이브러리 함수를 이용하세요.)"
      ],
      "metadata": {
        "id": "LmAwXdSVHyS6"
      }
    },
    {
      "cell_type": "code",
      "source": [
        "x = int(input(\"Number? : \"))\n",
        "\n",
        "print(\"sin({}) : {}\".format(x, np.sin(x)))\n",
        "print(\"cos({}) : {}\".format(x, np.cos(x)))\n",
        "print(\"tan({}) : {}\".format(x, np.tan(x)))"
      ],
      "metadata": {
        "colab": {
          "base_uri": "https://localhost:8080/"
        },
        "id": "NPq0oD-OHvoA",
        "outputId": "2a90306f-481b-4c50-96d6-117a3e5e33fb"
      },
      "execution_count": 22,
      "outputs": [
        {
          "output_type": "stream",
          "name": "stdout",
          "text": [
            "Number? : 10\n",
            "sin(10) : -0.5440211108893698\n",
            "cos(10) : -0.8390715290764524\n",
            "tan(10) : 0.6483608274590866\n"
          ]
        }
      ]
    },
    {
      "cell_type": "markdown",
      "source": [
        "## 23번 : math function (2)\n",
        "### 문제\n",
        "사용자에게 입력받은 실수에 대한 절대값(*absabs*), 제곱근(*sqrtsqrt*), 제곱(*squaresquare*) 값을 구하는 코드를 작성해보세요.\n",
        "\n",
        "(단, numpy 라이브러리 함수를 이용하세요.)"
      ],
      "metadata": {
        "id": "NEwJtmJgH4wy"
      }
    },
    {
      "cell_type": "code",
      "source": [
        "x = float(input(\"Number? : \"))\n",
        "\n",
        "\n",
        "np.abs(x)\n",
        "x**2\n",
        "np.sqrt(x)"
      ],
      "metadata": {
        "colab": {
          "base_uri": "https://localhost:8080/"
        },
        "id": "KDfSjjwbH2EQ",
        "outputId": "ab49772c-c9fd-40bf-84a1-bb777c184fa6"
      },
      "execution_count": 23,
      "outputs": [
        {
          "name": "stdout",
          "output_type": "stream",
          "text": [
            "Number? : 3.14\n"
          ]
        },
        {
          "output_type": "execute_result",
          "data": {
            "text/plain": [
              "1.772004514666935"
            ]
          },
          "metadata": {},
          "execution_count": 23
        }
      ]
    },
    {
      "cell_type": "markdown",
      "source": [
        "##24번 : math function (3)\n",
        "### 문제\n",
        "사용자에게 입력받은 양수logx 의 정의역 xx는 양수로 정의됩니다.)인 실수 x에 대하여 e^x, logx 값을 구하는 코드를 작성해보세요."
      ],
      "metadata": {
        "id": "kN57zoT4IECM"
      }
    },
    {
      "cell_type": "code",
      "source": [
        "x = np.abs(float(input(\"Number? : \")))\n",
        "\n",
        "np.exp(x)\n",
        "np.log(x)"
      ],
      "metadata": {
        "colab": {
          "base_uri": "https://localhost:8080/"
        },
        "id": "NyCaOg62H_aX",
        "outputId": "c8e28ad5-5f31-492e-a6c3-1950d6337a44"
      },
      "execution_count": 24,
      "outputs": [
        {
          "name": "stdout",
          "output_type": "stream",
          "text": [
            "Number? : 3.14\n"
          ]
        },
        {
          "output_type": "execute_result",
          "data": {
            "text/plain": [
              "1.144222799920162"
            ]
          },
          "metadata": {},
          "execution_count": 24
        }
      ]
    },
    {
      "cell_type": "markdown",
      "source": [
        "## 25번 : sorting\n",
        "### 문제\n",
        "주어진 numpy array를 오름차순 정렬하는 코드를 작성해보세요."
      ],
      "metadata": {
        "id": "egEbCOZzIVZb"
      }
    },
    {
      "cell_type": "code",
      "source": [
        "arr = np.array([1, -5, 3.4, 55.41, -1009, 2245, -575, -1935.124])\n",
        "\n",
        "arr1 = np.sort(arr)"
      ],
      "metadata": {
        "id": "2-NYodC-IS-u"
      },
      "execution_count": 25,
      "outputs": []
    },
    {
      "cell_type": "markdown",
      "source": [
        "## 26번 : sorting (2)\n",
        "### 문제\n",
        "다음 numpy array를 대하여 오름차순으로 정렬한 뒤의 array에서 각 원소가 가지는 인덱스를 구하는 코드를 작성하세요.\n",
        "\n",
        "(단, 주어진 배열을 변형하지 말고 사용하세요.)"
      ],
      "metadata": {
        "id": "Ejq7MBKNIagL"
      }
    },
    {
      "cell_type": "code",
      "source": [
        "arr = np.array([1, -5, 3.4, 55.41, -1009, 2245, -575, -1935.124])\n",
        "\n",
        "np.argsort(arr)"
      ],
      "metadata": {
        "colab": {
          "base_uri": "https://localhost:8080/"
        },
        "id": "w6i_hoFGIYUO",
        "outputId": "08a9e07c-1b3a-4920-faf4-5ec919f3806a"
      },
      "execution_count": 27,
      "outputs": [
        {
          "output_type": "execute_result",
          "data": {
            "text/plain": [
              "array([7, 4, 6, 1, 0, 2, 3, 5])"
            ]
          },
          "metadata": {},
          "execution_count": 27
        }
      ]
    },
    {
      "cell_type": "markdown",
      "source": [
        "## 27번 : sorting (3)\n",
        "### 문제\n",
        "행렬 형태로 주어진 numpy array를 행별로 오름차순 정렬하는 코드를 작성해보세요."
      ],
      "metadata": {
        "id": "9FcaQOPwIg65"
      }
    },
    {
      "cell_type": "code",
      "source": [
        "mat = np.array([[1, -1, 3],\n",
        "        [4, 3, -6],\n",
        "        [0, 11, 9]])\n",
        "\n",
        "np.sort(mat, axis = 1)"
      ],
      "metadata": {
        "colab": {
          "base_uri": "https://localhost:8080/"
        },
        "id": "9upbq5VEIdU9",
        "outputId": "59441370-9fab-4922-b406-34e3b65b3006"
      },
      "execution_count": 28,
      "outputs": [
        {
          "output_type": "execute_result",
          "data": {
            "text/plain": [
              "array([[-1,  1,  3],\n",
              "       [-6,  3,  4],\n",
              "       [ 0,  9, 11]])"
            ]
          },
          "metadata": {},
          "execution_count": 28
        }
      ]
    },
    {
      "cell_type": "markdown",
      "source": [
        "## 28번 : sorting (4)\n",
        "### 문제\n",
        "행렬 형태로 주어진 numpy array를 열별로 내림차순 정렬하는 코드를 작성해보세요."
      ],
      "metadata": {
        "id": "agXrIDcUInFD"
      }
    },
    {
      "cell_type": "code",
      "source": [
        "mat = np.array([[1, -1, 3],\n",
        "        [4, 3, -6],\n",
        "        [0, 11, 9]])\n",
        "\n",
        "\n",
        "np.sort(mat, axis = 0)[::-1]"
      ],
      "metadata": {
        "colab": {
          "base_uri": "https://localhost:8080/"
        },
        "id": "j0gx-eU8Ikol",
        "outputId": "88495ebf-5d70-4f10-83ab-d1da39bce7bb"
      },
      "execution_count": 29,
      "outputs": [
        {
          "output_type": "execute_result",
          "data": {
            "text/plain": [
              "array([[ 4, 11,  9],\n",
              "       [ 1,  3,  3],\n",
              "       [ 0, -1, -6]])"
            ]
          },
          "metadata": {},
          "execution_count": 29
        }
      ]
    }
  ]
}