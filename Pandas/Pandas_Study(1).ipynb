{
 "cells": [
  {
   "cell_type": "code",
   "execution_count": 9,
   "id": "frank-friendship",
   "metadata": {},
   "outputs": [],
   "source": [
    "import pandas as pd ## pandas 라이브러리를 불러옵니다."
   ]
  },
  {
   "cell_type": "markdown",
   "id": "other-intersection",
   "metadata": {},
   "source": [
    "## 1.pandas data structure (1)\n",
    "\n",
    "python list to pandas series"
   ]
  },
  {
   "cell_type": "code",
   "execution_count": 10,
   "id": "sporting-canada",
   "metadata": {},
   "outputs": [
    {
     "data": {
      "text/plain": [
       "0    1\n",
       "1    2\n",
       "2    3\n",
       "3    4\n",
       "4    5\n",
       "dtype: int64"
      ]
     },
     "execution_count": 10,
     "metadata": {},
     "output_type": "execute_result"
    }
   ],
   "source": [
    "L = [1,2,3,4,5]\n",
    "pd.Series(L)"
   ]
  },
  {
   "cell_type": "markdown",
   "id": "smooth-scheme",
   "metadata": {},
   "source": [
    "## 2.pandas data structure (2)\n",
    "\n",
    "pandas dataframe creation\n",
    "\n",
    "문제 : 열의 이름은 A,B,C,D 이고 열마다 5개의  random한 숫자를 원소로 하는 DataFrame을 생성하는 코드를 작성"
   ]
  },
  {
   "cell_type": "code",
   "execution_count": 25,
   "id": "empty-warrior",
   "metadata": {},
   "outputs": [
    {
     "data": {
      "text/html": [
       "<div>\n",
       "<style scoped>\n",
       "    .dataframe tbody tr th:only-of-type {\n",
       "        vertical-align: middle;\n",
       "    }\n",
       "\n",
       "    .dataframe tbody tr th {\n",
       "        vertical-align: top;\n",
       "    }\n",
       "\n",
       "    .dataframe thead th {\n",
       "        text-align: right;\n",
       "    }\n",
       "</style>\n",
       "<table border=\"1\" class=\"dataframe\">\n",
       "  <thead>\n",
       "    <tr style=\"text-align: right;\">\n",
       "      <th></th>\n",
       "      <th>A</th>\n",
       "      <th>B</th>\n",
       "      <th>C</th>\n",
       "      <th>D</th>\n",
       "    </tr>\n",
       "  </thead>\n",
       "  <tbody>\n",
       "    <tr>\n",
       "      <th>0</th>\n",
       "      <td>-1.142747</td>\n",
       "      <td>-0.606893</td>\n",
       "      <td>1.125299</td>\n",
       "      <td>-0.546331</td>\n",
       "    </tr>\n",
       "    <tr>\n",
       "      <th>1</th>\n",
       "      <td>-1.729292</td>\n",
       "      <td>-0.267414</td>\n",
       "      <td>-0.020324</td>\n",
       "      <td>-1.666729</td>\n",
       "    </tr>\n",
       "    <tr>\n",
       "      <th>2</th>\n",
       "      <td>0.238898</td>\n",
       "      <td>0.553962</td>\n",
       "      <td>-1.024910</td>\n",
       "      <td>-1.982113</td>\n",
       "    </tr>\n",
       "    <tr>\n",
       "      <th>3</th>\n",
       "      <td>-0.232411</td>\n",
       "      <td>0.221254</td>\n",
       "      <td>1.821071</td>\n",
       "      <td>-1.469115</td>\n",
       "    </tr>\n",
       "    <tr>\n",
       "      <th>4</th>\n",
       "      <td>2.282980</td>\n",
       "      <td>0.876405</td>\n",
       "      <td>1.300092</td>\n",
       "      <td>0.056624</td>\n",
       "    </tr>\n",
       "  </tbody>\n",
       "</table>\n",
       "</div>"
      ],
      "text/plain": [
       "          A         B         C         D\n",
       "0 -1.142747 -0.606893  1.125299 -0.546331\n",
       "1 -1.729292 -0.267414 -0.020324 -1.666729\n",
       "2  0.238898  0.553962 -1.024910 -1.982113\n",
       "3 -0.232411  0.221254  1.821071 -1.469115\n",
       "4  2.282980  0.876405  1.300092  0.056624"
      ]
     },
     "execution_count": 25,
     "metadata": {},
     "output_type": "execute_result"
    }
   ],
   "source": [
    "import numpy as np\n",
    "\n",
    "df = pd.DataFrame(np.random.randn(5,4), columns=list('ABCD'))\n",
    "df"
   ]
  },
  {
   "cell_type": "code",
   "execution_count": 20,
   "id": "active-rough",
   "metadata": {},
   "outputs": [
    {
     "data": {
      "text/html": [
       "<div>\n",
       "<style scoped>\n",
       "    .dataframe tbody tr th:only-of-type {\n",
       "        vertical-align: middle;\n",
       "    }\n",
       "\n",
       "    .dataframe tbody tr th {\n",
       "        vertical-align: top;\n",
       "    }\n",
       "\n",
       "    .dataframe thead th {\n",
       "        text-align: right;\n",
       "    }\n",
       "</style>\n",
       "<table border=\"1\" class=\"dataframe\">\n",
       "  <thead>\n",
       "    <tr style=\"text-align: right;\">\n",
       "      <th></th>\n",
       "      <th>ID</th>\n",
       "      <th>name</th>\n",
       "      <th>class</th>\n",
       "    </tr>\n",
       "  </thead>\n",
       "  <tbody>\n",
       "    <tr>\n",
       "      <th>0</th>\n",
       "      <td>20190103</td>\n",
       "      <td>Kim</td>\n",
       "      <td>H</td>\n",
       "    </tr>\n",
       "    <tr>\n",
       "      <th>1</th>\n",
       "      <td>20190222</td>\n",
       "      <td>Lee</td>\n",
       "      <td>W</td>\n",
       "    </tr>\n",
       "    <tr>\n",
       "      <th>2</th>\n",
       "      <td>20190531</td>\n",
       "      <td>Jeong</td>\n",
       "      <td>S</td>\n",
       "    </tr>\n",
       "  </tbody>\n",
       "</table>\n",
       "</div>"
      ],
      "text/plain": [
       "         ID   name class\n",
       "0  20190103    Kim     H\n",
       "1  20190222    Lee     W\n",
       "2  20190531  Jeong     S"
      ]
     },
     "execution_count": 20,
     "metadata": {},
     "output_type": "execute_result"
    }
   ],
   "source": [
    "study_card = {'ID' : [20190103, 20190222, 20190531],\n",
    "              'name' : ['Kim', 'Lee', 'Jeong'],\n",
    "              'class' : ['H','W','S']}\n",
    "pd.DataFrame(study_card)"
   ]
  },
  {
   "cell_type": "markdown",
   "id": "civil-forty",
   "metadata": {},
   "source": [
    "## 3.pandas data structure (3)\n",
    "\n",
    "문제 : 2번 문제에서 생성한 DataFrame의 index로 2020년 1월 1일 부터 2020년 1월 5일까지의 날짜를 지정하는 코드를 작성해보세요."
   ]
  },
  {
   "cell_type": "code",
   "execution_count": 71,
   "id": "fresh-authority",
   "metadata": {},
   "outputs": [
    {
     "data": {
      "text/html": [
       "<div>\n",
       "<style scoped>\n",
       "    .dataframe tbody tr th:only-of-type {\n",
       "        vertical-align: middle;\n",
       "    }\n",
       "\n",
       "    .dataframe tbody tr th {\n",
       "        vertical-align: top;\n",
       "    }\n",
       "\n",
       "    .dataframe thead th {\n",
       "        text-align: right;\n",
       "    }\n",
       "</style>\n",
       "<table border=\"1\" class=\"dataframe\">\n",
       "  <thead>\n",
       "    <tr style=\"text-align: right;\">\n",
       "      <th></th>\n",
       "      <th>A</th>\n",
       "      <th>B</th>\n",
       "      <th>C</th>\n",
       "      <th>D</th>\n",
       "    </tr>\n",
       "  </thead>\n",
       "  <tbody>\n",
       "    <tr>\n",
       "      <th>2020-01-01</th>\n",
       "      <td>1.021466</td>\n",
       "      <td>-0.559118</td>\n",
       "      <td>-1.130987</td>\n",
       "      <td>-1.217564</td>\n",
       "    </tr>\n",
       "    <tr>\n",
       "      <th>2020-01-02</th>\n",
       "      <td>0.771956</td>\n",
       "      <td>0.628227</td>\n",
       "      <td>-1.273924</td>\n",
       "      <td>1.168309</td>\n",
       "    </tr>\n",
       "    <tr>\n",
       "      <th>2020-01-03</th>\n",
       "      <td>-0.431620</td>\n",
       "      <td>-0.006670</td>\n",
       "      <td>0.568162</td>\n",
       "      <td>-0.282012</td>\n",
       "    </tr>\n",
       "    <tr>\n",
       "      <th>2020-01-04</th>\n",
       "      <td>1.396732</td>\n",
       "      <td>2.151897</td>\n",
       "      <td>-0.502668</td>\n",
       "      <td>0.550309</td>\n",
       "    </tr>\n",
       "    <tr>\n",
       "      <th>2020-01-05</th>\n",
       "      <td>-1.585877</td>\n",
       "      <td>1.085737</td>\n",
       "      <td>0.031907</td>\n",
       "      <td>-0.108157</td>\n",
       "    </tr>\n",
       "    <tr>\n",
       "      <th>2020-01-06</th>\n",
       "      <td>0.373304</td>\n",
       "      <td>-1.886434</td>\n",
       "      <td>1.265019</td>\n",
       "      <td>0.844318</td>\n",
       "    </tr>\n",
       "    <tr>\n",
       "      <th>2020-01-07</th>\n",
       "      <td>0.503786</td>\n",
       "      <td>-1.052333</td>\n",
       "      <td>-0.059051</td>\n",
       "      <td>0.792839</td>\n",
       "    </tr>\n",
       "    <tr>\n",
       "      <th>2020-01-08</th>\n",
       "      <td>0.058740</td>\n",
       "      <td>0.294565</td>\n",
       "      <td>-0.491830</td>\n",
       "      <td>0.980444</td>\n",
       "    </tr>\n",
       "    <tr>\n",
       "      <th>2020-01-09</th>\n",
       "      <td>0.415370</td>\n",
       "      <td>0.280252</td>\n",
       "      <td>-0.104958</td>\n",
       "      <td>-1.155432</td>\n",
       "    </tr>\n",
       "    <tr>\n",
       "      <th>2020-01-10</th>\n",
       "      <td>1.121339</td>\n",
       "      <td>0.854884</td>\n",
       "      <td>-0.925155</td>\n",
       "      <td>2.152860</td>\n",
       "    </tr>\n",
       "    <tr>\n",
       "      <th>2020-01-11</th>\n",
       "      <td>0.449233</td>\n",
       "      <td>0.522149</td>\n",
       "      <td>0.064433</td>\n",
       "      <td>0.175056</td>\n",
       "    </tr>\n",
       "    <tr>\n",
       "      <th>2020-01-12</th>\n",
       "      <td>1.013759</td>\n",
       "      <td>-0.769213</td>\n",
       "      <td>-1.183089</td>\n",
       "      <td>0.985532</td>\n",
       "    </tr>\n",
       "  </tbody>\n",
       "</table>\n",
       "</div>"
      ],
      "text/plain": [
       "                   A         B         C         D\n",
       "2020-01-01  1.021466 -0.559118 -1.130987 -1.217564\n",
       "2020-01-02  0.771956  0.628227 -1.273924  1.168309\n",
       "2020-01-03 -0.431620 -0.006670  0.568162 -0.282012\n",
       "2020-01-04  1.396732  2.151897 -0.502668  0.550309\n",
       "2020-01-05 -1.585877  1.085737  0.031907 -0.108157\n",
       "2020-01-06  0.373304 -1.886434  1.265019  0.844318\n",
       "2020-01-07  0.503786 -1.052333 -0.059051  0.792839\n",
       "2020-01-08  0.058740  0.294565 -0.491830  0.980444\n",
       "2020-01-09  0.415370  0.280252 -0.104958 -1.155432\n",
       "2020-01-10  1.121339  0.854884 -0.925155  2.152860\n",
       "2020-01-11  0.449233  0.522149  0.064433  0.175056\n",
       "2020-01-12  1.013759 -0.769213 -1.183089  0.985532"
      ]
     },
     "execution_count": 71,
     "metadata": {},
     "output_type": "execute_result"
    }
   ],
   "source": [
    "dates = pd.date_range('20200101', periods=12) # date_range() 함수 사용\n",
    "df = df.set_index(dates)\n",
    "df"
   ]
  },
  {
   "cell_type": "markdown",
   "id": "confident-fundamental",
   "metadata": {},
   "source": [
    "## 4.DataFrame method (1)"
   ]
  },
  {
   "cell_type": "code",
   "execution_count": 44,
   "id": "unique-asian",
   "metadata": {},
   "outputs": [
    {
     "data": {
      "text/html": [
       "<div>\n",
       "<style scoped>\n",
       "    .dataframe tbody tr th:only-of-type {\n",
       "        vertical-align: middle;\n",
       "    }\n",
       "\n",
       "    .dataframe tbody tr th {\n",
       "        vertical-align: top;\n",
       "    }\n",
       "\n",
       "    .dataframe thead th {\n",
       "        text-align: right;\n",
       "    }\n",
       "</style>\n",
       "<table border=\"1\" class=\"dataframe\">\n",
       "  <thead>\n",
       "    <tr style=\"text-align: right;\">\n",
       "      <th></th>\n",
       "      <th>A</th>\n",
       "      <th>B</th>\n",
       "      <th>C</th>\n",
       "      <th>D</th>\n",
       "    </tr>\n",
       "  </thead>\n",
       "  <tbody>\n",
       "    <tr>\n",
       "      <th>0</th>\n",
       "      <td>A0</td>\n",
       "      <td>B0</td>\n",
       "      <td>C0</td>\n",
       "      <td>D0</td>\n",
       "    </tr>\n",
       "    <tr>\n",
       "      <th>1</th>\n",
       "      <td>A1</td>\n",
       "      <td>B1</td>\n",
       "      <td>C1</td>\n",
       "      <td>D1</td>\n",
       "    </tr>\n",
       "    <tr>\n",
       "      <th>2</th>\n",
       "      <td>A2</td>\n",
       "      <td>B2</td>\n",
       "      <td>C2</td>\n",
       "      <td>D2</td>\n",
       "    </tr>\n",
       "    <tr>\n",
       "      <th>3</th>\n",
       "      <td>A3</td>\n",
       "      <td>B3</td>\n",
       "      <td>C3</td>\n",
       "      <td>D3</td>\n",
       "    </tr>\n",
       "    <tr>\n",
       "      <th>4</th>\n",
       "      <td>A4</td>\n",
       "      <td>B4</td>\n",
       "      <td>C4</td>\n",
       "      <td>D4</td>\n",
       "    </tr>\n",
       "    <tr>\n",
       "      <th>5</th>\n",
       "      <td>A5</td>\n",
       "      <td>B5</td>\n",
       "      <td>C5</td>\n",
       "      <td>D5</td>\n",
       "    </tr>\n",
       "    <tr>\n",
       "      <th>6</th>\n",
       "      <td>A6</td>\n",
       "      <td>B6</td>\n",
       "      <td>C6</td>\n",
       "      <td>D6</td>\n",
       "    </tr>\n",
       "    <tr>\n",
       "      <th>7</th>\n",
       "      <td>A7</td>\n",
       "      <td>B7</td>\n",
       "      <td>C7</td>\n",
       "      <td>D7</td>\n",
       "    </tr>\n",
       "    <tr>\n",
       "      <th>8</th>\n",
       "      <td>A8</td>\n",
       "      <td>B8</td>\n",
       "      <td>C8</td>\n",
       "      <td>D8</td>\n",
       "    </tr>\n",
       "    <tr>\n",
       "      <th>9</th>\n",
       "      <td>A9</td>\n",
       "      <td>B9</td>\n",
       "      <td>C9</td>\n",
       "      <td>D9</td>\n",
       "    </tr>\n",
       "    <tr>\n",
       "      <th>10</th>\n",
       "      <td>A10</td>\n",
       "      <td>B10</td>\n",
       "      <td>C10</td>\n",
       "      <td>D10</td>\n",
       "    </tr>\n",
       "    <tr>\n",
       "      <th>11</th>\n",
       "      <td>A11</td>\n",
       "      <td>B11</td>\n",
       "      <td>C11</td>\n",
       "      <td>D11</td>\n",
       "    </tr>\n",
       "  </tbody>\n",
       "</table>\n",
       "</div>"
      ],
      "text/plain": [
       "      A    B    C    D\n",
       "0    A0   B0   C0   D0\n",
       "1    A1   B1   C1   D1\n",
       "2    A2   B2   C2   D2\n",
       "3    A3   B3   C3   D3\n",
       "4    A4   B4   C4   D4\n",
       "5    A5   B5   C5   D5\n",
       "6    A6   B6   C6   D6\n",
       "7    A7   B7   C7   D7\n",
       "8    A8   B8   C8   D8\n",
       "9    A9   B9   C9   D9\n",
       "10  A10  B10  C10  D10\n",
       "11  A11  B11  C11  D11"
      ]
     },
     "execution_count": 44,
     "metadata": {},
     "output_type": "execute_result"
    }
   ],
   "source": [
    "cols = ['A', 'B', 'C', 'D']\n",
    "\n",
    "data = [[c+str(i) for i in range(12)] for c in cols]\n",
    "\n",
    "df_b = pd.DataFrame(np.array(data).T, index=range(0, 12), columns=cols)\n",
    "\n",
    "df_b"
   ]
  },
  {
   "cell_type": "markdown",
   "id": "ranking-population",
   "metadata": {},
   "source": [
    "## 5.DataFrame method (2)\n",
    "\n",
    "문제 : df_b를 이용해서, 위에서부터 5개의 행을 출력하는 코드를 작성해보세요."
   ]
  },
  {
   "cell_type": "code",
   "execution_count": 45,
   "id": "hairy-sudan",
   "metadata": {},
   "outputs": [
    {
     "data": {
      "text/html": [
       "<div>\n",
       "<style scoped>\n",
       "    .dataframe tbody tr th:only-of-type {\n",
       "        vertical-align: middle;\n",
       "    }\n",
       "\n",
       "    .dataframe tbody tr th {\n",
       "        vertical-align: top;\n",
       "    }\n",
       "\n",
       "    .dataframe thead th {\n",
       "        text-align: right;\n",
       "    }\n",
       "</style>\n",
       "<table border=\"1\" class=\"dataframe\">\n",
       "  <thead>\n",
       "    <tr style=\"text-align: right;\">\n",
       "      <th></th>\n",
       "      <th>A</th>\n",
       "      <th>B</th>\n",
       "      <th>C</th>\n",
       "      <th>D</th>\n",
       "    </tr>\n",
       "  </thead>\n",
       "  <tbody>\n",
       "    <tr>\n",
       "      <th>0</th>\n",
       "      <td>A0</td>\n",
       "      <td>B0</td>\n",
       "      <td>C0</td>\n",
       "      <td>D0</td>\n",
       "    </tr>\n",
       "    <tr>\n",
       "      <th>1</th>\n",
       "      <td>A1</td>\n",
       "      <td>B1</td>\n",
       "      <td>C1</td>\n",
       "      <td>D1</td>\n",
       "    </tr>\n",
       "    <tr>\n",
       "      <th>2</th>\n",
       "      <td>A2</td>\n",
       "      <td>B2</td>\n",
       "      <td>C2</td>\n",
       "      <td>D2</td>\n",
       "    </tr>\n",
       "    <tr>\n",
       "      <th>3</th>\n",
       "      <td>A3</td>\n",
       "      <td>B3</td>\n",
       "      <td>C3</td>\n",
       "      <td>D3</td>\n",
       "    </tr>\n",
       "    <tr>\n",
       "      <th>4</th>\n",
       "      <td>A4</td>\n",
       "      <td>B4</td>\n",
       "      <td>C4</td>\n",
       "      <td>D4</td>\n",
       "    </tr>\n",
       "  </tbody>\n",
       "</table>\n",
       "</div>"
      ],
      "text/plain": [
       "    A   B   C   D\n",
       "0  A0  B0  C0  D0\n",
       "1  A1  B1  C1  D1\n",
       "2  A2  B2  C2  D2\n",
       "3  A3  B3  C3  D3\n",
       "4  A4  B4  C4  D4"
      ]
     },
     "execution_count": 45,
     "metadata": {},
     "output_type": "execute_result"
    }
   ],
   "source": [
    "df_b.head() ## .head() : 5개의 행을 출력"
   ]
  },
  {
   "cell_type": "code",
   "execution_count": 46,
   "id": "sitting-leisure",
   "metadata": {},
   "outputs": [
    {
     "data": {
      "text/html": [
       "<div>\n",
       "<style scoped>\n",
       "    .dataframe tbody tr th:only-of-type {\n",
       "        vertical-align: middle;\n",
       "    }\n",
       "\n",
       "    .dataframe tbody tr th {\n",
       "        vertical-align: top;\n",
       "    }\n",
       "\n",
       "    .dataframe thead th {\n",
       "        text-align: right;\n",
       "    }\n",
       "</style>\n",
       "<table border=\"1\" class=\"dataframe\">\n",
       "  <thead>\n",
       "    <tr style=\"text-align: right;\">\n",
       "      <th></th>\n",
       "      <th>A</th>\n",
       "      <th>B</th>\n",
       "      <th>C</th>\n",
       "      <th>D</th>\n",
       "    </tr>\n",
       "  </thead>\n",
       "  <tbody>\n",
       "    <tr>\n",
       "      <th>0</th>\n",
       "      <td>A0</td>\n",
       "      <td>B0</td>\n",
       "      <td>C0</td>\n",
       "      <td>D0</td>\n",
       "    </tr>\n",
       "    <tr>\n",
       "      <th>1</th>\n",
       "      <td>A1</td>\n",
       "      <td>B1</td>\n",
       "      <td>C1</td>\n",
       "      <td>D1</td>\n",
       "    </tr>\n",
       "    <tr>\n",
       "      <th>2</th>\n",
       "      <td>A2</td>\n",
       "      <td>B2</td>\n",
       "      <td>C2</td>\n",
       "      <td>D2</td>\n",
       "    </tr>\n",
       "    <tr>\n",
       "      <th>3</th>\n",
       "      <td>A3</td>\n",
       "      <td>B3</td>\n",
       "      <td>C3</td>\n",
       "      <td>D3</td>\n",
       "    </tr>\n",
       "    <tr>\n",
       "      <th>4</th>\n",
       "      <td>A4</td>\n",
       "      <td>B4</td>\n",
       "      <td>C4</td>\n",
       "      <td>D4</td>\n",
       "    </tr>\n",
       "  </tbody>\n",
       "</table>\n",
       "</div>"
      ],
      "text/plain": [
       "    A   B   C   D\n",
       "0  A0  B0  C0  D0\n",
       "1  A1  B1  C1  D1\n",
       "2  A2  B2  C2  D2\n",
       "3  A3  B3  C3  D3\n",
       "4  A4  B4  C4  D4"
      ]
     },
     "execution_count": 46,
     "metadata": {},
     "output_type": "execute_result"
    }
   ],
   "source": [
    "df_b[:5]"
   ]
  },
  {
   "cell_type": "code",
   "execution_count": 47,
   "id": "hybrid-register",
   "metadata": {},
   "outputs": [
    {
     "data": {
      "text/html": [
       "<div>\n",
       "<style scoped>\n",
       "    .dataframe tbody tr th:only-of-type {\n",
       "        vertical-align: middle;\n",
       "    }\n",
       "\n",
       "    .dataframe tbody tr th {\n",
       "        vertical-align: top;\n",
       "    }\n",
       "\n",
       "    .dataframe thead th {\n",
       "        text-align: right;\n",
       "    }\n",
       "</style>\n",
       "<table border=\"1\" class=\"dataframe\">\n",
       "  <thead>\n",
       "    <tr style=\"text-align: right;\">\n",
       "      <th></th>\n",
       "      <th>A</th>\n",
       "      <th>B</th>\n",
       "      <th>C</th>\n",
       "      <th>D</th>\n",
       "    </tr>\n",
       "  </thead>\n",
       "  <tbody>\n",
       "    <tr>\n",
       "      <th>0</th>\n",
       "      <td>A0</td>\n",
       "      <td>B0</td>\n",
       "      <td>C0</td>\n",
       "      <td>D0</td>\n",
       "    </tr>\n",
       "    <tr>\n",
       "      <th>1</th>\n",
       "      <td>A1</td>\n",
       "      <td>B1</td>\n",
       "      <td>C1</td>\n",
       "      <td>D1</td>\n",
       "    </tr>\n",
       "    <tr>\n",
       "      <th>2</th>\n",
       "      <td>A2</td>\n",
       "      <td>B2</td>\n",
       "      <td>C2</td>\n",
       "      <td>D2</td>\n",
       "    </tr>\n",
       "    <tr>\n",
       "      <th>3</th>\n",
       "      <td>A3</td>\n",
       "      <td>B3</td>\n",
       "      <td>C3</td>\n",
       "      <td>D3</td>\n",
       "    </tr>\n",
       "    <tr>\n",
       "      <th>4</th>\n",
       "      <td>A4</td>\n",
       "      <td>B4</td>\n",
       "      <td>C4</td>\n",
       "      <td>D4</td>\n",
       "    </tr>\n",
       "  </tbody>\n",
       "</table>\n",
       "</div>"
      ],
      "text/plain": [
       "    A   B   C   D\n",
       "0  A0  B0  C0  D0\n",
       "1  A1  B1  C1  D1\n",
       "2  A2  B2  C2  D2\n",
       "3  A3  B3  C3  D3\n",
       "4  A4  B4  C4  D4"
      ]
     },
     "execution_count": 47,
     "metadata": {},
     "output_type": "execute_result"
    }
   ],
   "source": [
    "df_b.head(5)"
   ]
  },
  {
   "cell_type": "markdown",
   "id": "variable-punch",
   "metadata": {},
   "source": [
    "## 6.DataFrame method (3)\n",
    "\n",
    "df_B를 이용해서 DataFrame의 index와 columns, values를 각각 추출해내는 코드를 작성해보세요."
   ]
  },
  {
   "cell_type": "code",
   "execution_count": 60,
   "id": "cognitive-cement",
   "metadata": {},
   "outputs": [
    {
     "name": "stdout",
     "output_type": "stream",
     "text": [
      "A\n",
      "B\n",
      "C\n",
      "D\n"
     ]
    },
    {
     "data": {
      "text/plain": [
       "['A', 'B', 'C', 'D']"
      ]
     },
     "execution_count": 60,
     "metadata": {},
     "output_type": "execute_result"
    }
   ],
   "source": [
    "## pandas dataframe print columns\n",
    "for col in df_b.columns:\n",
    "    print(col)\n",
    "\n",
    "list(df_b.columns)"
   ]
  },
  {
   "cell_type": "code",
   "execution_count": 61,
   "id": "understood-correspondence",
   "metadata": {},
   "outputs": [
    {
     "data": {
      "text/plain": [
       "[array(['A0', 'B0', 'C0', 'D0'], dtype=object),\n",
       " array(['A1', 'B1', 'C1', 'D1'], dtype=object),\n",
       " array(['A2', 'B2', 'C2', 'D2'], dtype=object),\n",
       " array(['A3', 'B3', 'C3', 'D3'], dtype=object),\n",
       " array(['A4', 'B4', 'C4', 'D4'], dtype=object),\n",
       " array(['A5', 'B5', 'C5', 'D5'], dtype=object),\n",
       " array(['A6', 'B6', 'C6', 'D6'], dtype=object),\n",
       " array(['A7', 'B7', 'C7', 'D7'], dtype=object),\n",
       " array(['A8', 'B8', 'C8', 'D8'], dtype=object),\n",
       " array(['A9', 'B9', 'C9', 'D9'], dtype=object),\n",
       " array(['A10', 'B10', 'C10', 'D10'], dtype=object),\n",
       " array(['A11', 'B11', 'C11', 'D11'], dtype=object)]"
      ]
     },
     "execution_count": 61,
     "metadata": {},
     "output_type": "execute_result"
    }
   ],
   "source": [
    "## pandas dataframe print values\n",
    "\n",
    "list(df_b.values)"
   ]
  },
  {
   "cell_type": "code",
   "execution_count": 62,
   "id": "ordered-stopping",
   "metadata": {},
   "outputs": [
    {
     "data": {
      "text/plain": [
       "[0, 1, 2, 3, 4, 5, 6, 7, 8, 9, 10, 11]"
      ]
     },
     "execution_count": 62,
     "metadata": {},
     "output_type": "execute_result"
    }
   ],
   "source": [
    "## pandas dataframe index\n",
    "\n",
    "list(df_b.index)"
   ]
  },
  {
   "cell_type": "markdown",
   "id": "disabled-battlefield",
   "metadata": {},
   "source": [
    "## 7.DataFrame method (4)\n",
    "\n",
    "df_b를 이용해서, DataFrame의 요약정보를 출력하는 코드를 작성해보세요."
   ]
  },
  {
   "cell_type": "code",
   "execution_count": 63,
   "id": "annoying-prague",
   "metadata": {},
   "outputs": [
    {
     "data": {
      "text/html": [
       "<div>\n",
       "<style scoped>\n",
       "    .dataframe tbody tr th:only-of-type {\n",
       "        vertical-align: middle;\n",
       "    }\n",
       "\n",
       "    .dataframe tbody tr th {\n",
       "        vertical-align: top;\n",
       "    }\n",
       "\n",
       "    .dataframe thead th {\n",
       "        text-align: right;\n",
       "    }\n",
       "</style>\n",
       "<table border=\"1\" class=\"dataframe\">\n",
       "  <thead>\n",
       "    <tr style=\"text-align: right;\">\n",
       "      <th></th>\n",
       "      <th>A</th>\n",
       "      <th>B</th>\n",
       "      <th>C</th>\n",
       "      <th>D</th>\n",
       "    </tr>\n",
       "  </thead>\n",
       "  <tbody>\n",
       "    <tr>\n",
       "      <th>0</th>\n",
       "      <td>A0</td>\n",
       "      <td>B0</td>\n",
       "      <td>C0</td>\n",
       "      <td>D0</td>\n",
       "    </tr>\n",
       "    <tr>\n",
       "      <th>1</th>\n",
       "      <td>A1</td>\n",
       "      <td>B1</td>\n",
       "      <td>C1</td>\n",
       "      <td>D1</td>\n",
       "    </tr>\n",
       "    <tr>\n",
       "      <th>2</th>\n",
       "      <td>A2</td>\n",
       "      <td>B2</td>\n",
       "      <td>C2</td>\n",
       "      <td>D2</td>\n",
       "    </tr>\n",
       "    <tr>\n",
       "      <th>3</th>\n",
       "      <td>A3</td>\n",
       "      <td>B3</td>\n",
       "      <td>C3</td>\n",
       "      <td>D3</td>\n",
       "    </tr>\n",
       "    <tr>\n",
       "      <th>4</th>\n",
       "      <td>A4</td>\n",
       "      <td>B4</td>\n",
       "      <td>C4</td>\n",
       "      <td>D4</td>\n",
       "    </tr>\n",
       "    <tr>\n",
       "      <th>5</th>\n",
       "      <td>A5</td>\n",
       "      <td>B5</td>\n",
       "      <td>C5</td>\n",
       "      <td>D5</td>\n",
       "    </tr>\n",
       "    <tr>\n",
       "      <th>6</th>\n",
       "      <td>A6</td>\n",
       "      <td>B6</td>\n",
       "      <td>C6</td>\n",
       "      <td>D6</td>\n",
       "    </tr>\n",
       "    <tr>\n",
       "      <th>7</th>\n",
       "      <td>A7</td>\n",
       "      <td>B7</td>\n",
       "      <td>C7</td>\n",
       "      <td>D7</td>\n",
       "    </tr>\n",
       "    <tr>\n",
       "      <th>8</th>\n",
       "      <td>A8</td>\n",
       "      <td>B8</td>\n",
       "      <td>C8</td>\n",
       "      <td>D8</td>\n",
       "    </tr>\n",
       "    <tr>\n",
       "      <th>9</th>\n",
       "      <td>A9</td>\n",
       "      <td>B9</td>\n",
       "      <td>C9</td>\n",
       "      <td>D9</td>\n",
       "    </tr>\n",
       "    <tr>\n",
       "      <th>10</th>\n",
       "      <td>A10</td>\n",
       "      <td>B10</td>\n",
       "      <td>C10</td>\n",
       "      <td>D10</td>\n",
       "    </tr>\n",
       "    <tr>\n",
       "      <th>11</th>\n",
       "      <td>A11</td>\n",
       "      <td>B11</td>\n",
       "      <td>C11</td>\n",
       "      <td>D11</td>\n",
       "    </tr>\n",
       "  </tbody>\n",
       "</table>\n",
       "</div>"
      ],
      "text/plain": [
       "      A    B    C    D\n",
       "0    A0   B0   C0   D0\n",
       "1    A1   B1   C1   D1\n",
       "2    A2   B2   C2   D2\n",
       "3    A3   B3   C3   D3\n",
       "4    A4   B4   C4   D4\n",
       "5    A5   B5   C5   D5\n",
       "6    A6   B6   C6   D6\n",
       "7    A7   B7   C7   D7\n",
       "8    A8   B8   C8   D8\n",
       "9    A9   B9   C9   D9\n",
       "10  A10  B10  C10  D10\n",
       "11  A11  B11  C11  D11"
      ]
     },
     "execution_count": 63,
     "metadata": {},
     "output_type": "execute_result"
    }
   ],
   "source": [
    "df_b"
   ]
  },
  {
   "cell_type": "code",
   "execution_count": 65,
   "id": "accepting-swift",
   "metadata": {},
   "outputs": [
    {
     "name": "stdout",
     "output_type": "stream",
     "text": [
      "<class 'pandas.core.frame.DataFrame'>\n",
      "RangeIndex: 12 entries, 0 to 11\n",
      "Data columns (total 4 columns):\n",
      " #   Column  Non-Null Count  Dtype \n",
      "---  ------  --------------  ----- \n",
      " 0   A       12 non-null     object\n",
      " 1   B       12 non-null     object\n",
      " 2   C       12 non-null     object\n",
      " 3   D       12 non-null     object\n",
      "dtypes: object(4)\n",
      "memory usage: 512.0+ bytes\n"
     ]
    }
   ],
   "source": [
    "df_b.info()"
   ]
  },
  {
   "cell_type": "markdown",
   "id": "organized-video",
   "metadata": {},
   "source": [
    "## 8.DataFrame method (5)\n",
    "\n",
    "df_A를 이용해서 해당 DataFrame의 전체적인 통계량(통계정보)을 보여주는 코드를 작성해보세요."
   ]
  },
  {
   "cell_type": "code",
   "execution_count": 73,
   "id": "damaged-original",
   "metadata": {},
   "outputs": [
    {
     "data": {
      "text/html": [
       "<div>\n",
       "<style scoped>\n",
       "    .dataframe tbody tr th:only-of-type {\n",
       "        vertical-align: middle;\n",
       "    }\n",
       "\n",
       "    .dataframe tbody tr th {\n",
       "        vertical-align: top;\n",
       "    }\n",
       "\n",
       "    .dataframe thead th {\n",
       "        text-align: right;\n",
       "    }\n",
       "</style>\n",
       "<table border=\"1\" class=\"dataframe\">\n",
       "  <thead>\n",
       "    <tr style=\"text-align: right;\">\n",
       "      <th></th>\n",
       "      <th>A</th>\n",
       "      <th>B</th>\n",
       "      <th>C</th>\n",
       "      <th>D</th>\n",
       "    </tr>\n",
       "  </thead>\n",
       "  <tbody>\n",
       "    <tr>\n",
       "      <th>2020-01-01</th>\n",
       "      <td>1.021466</td>\n",
       "      <td>-0.559118</td>\n",
       "      <td>-1.130987</td>\n",
       "      <td>-1.217564</td>\n",
       "    </tr>\n",
       "    <tr>\n",
       "      <th>2020-01-02</th>\n",
       "      <td>0.771956</td>\n",
       "      <td>0.628227</td>\n",
       "      <td>-1.273924</td>\n",
       "      <td>1.168309</td>\n",
       "    </tr>\n",
       "    <tr>\n",
       "      <th>2020-01-03</th>\n",
       "      <td>-0.431620</td>\n",
       "      <td>-0.006670</td>\n",
       "      <td>0.568162</td>\n",
       "      <td>-0.282012</td>\n",
       "    </tr>\n",
       "    <tr>\n",
       "      <th>2020-01-04</th>\n",
       "      <td>1.396732</td>\n",
       "      <td>2.151897</td>\n",
       "      <td>-0.502668</td>\n",
       "      <td>0.550309</td>\n",
       "    </tr>\n",
       "    <tr>\n",
       "      <th>2020-01-05</th>\n",
       "      <td>-1.585877</td>\n",
       "      <td>1.085737</td>\n",
       "      <td>0.031907</td>\n",
       "      <td>-0.108157</td>\n",
       "    </tr>\n",
       "  </tbody>\n",
       "</table>\n",
       "</div>"
      ],
      "text/plain": [
       "                   A         B         C         D\n",
       "2020-01-01  1.021466 -0.559118 -1.130987 -1.217564\n",
       "2020-01-02  0.771956  0.628227 -1.273924  1.168309\n",
       "2020-01-03 -0.431620 -0.006670  0.568162 -0.282012\n",
       "2020-01-04  1.396732  2.151897 -0.502668  0.550309\n",
       "2020-01-05 -1.585877  1.085737  0.031907 -0.108157"
      ]
     },
     "execution_count": 73,
     "metadata": {},
     "output_type": "execute_result"
    }
   ],
   "source": [
    "dates = pd.date_range('20200101', periods=12) # date_range() 함수 사용\n",
    "df_A = df.set_index(dates).head()\n",
    "df_A"
   ]
  },
  {
   "cell_type": "code",
   "execution_count": 74,
   "id": "vietnamese-omega",
   "metadata": {},
   "outputs": [
    {
     "data": {
      "text/html": [
       "<div>\n",
       "<style scoped>\n",
       "    .dataframe tbody tr th:only-of-type {\n",
       "        vertical-align: middle;\n",
       "    }\n",
       "\n",
       "    .dataframe tbody tr th {\n",
       "        vertical-align: top;\n",
       "    }\n",
       "\n",
       "    .dataframe thead th {\n",
       "        text-align: right;\n",
       "    }\n",
       "</style>\n",
       "<table border=\"1\" class=\"dataframe\">\n",
       "  <thead>\n",
       "    <tr style=\"text-align: right;\">\n",
       "      <th></th>\n",
       "      <th>A</th>\n",
       "      <th>B</th>\n",
       "      <th>C</th>\n",
       "      <th>D</th>\n",
       "    </tr>\n",
       "  </thead>\n",
       "  <tbody>\n",
       "    <tr>\n",
       "      <th>count</th>\n",
       "      <td>5.000000</td>\n",
       "      <td>5.000000</td>\n",
       "      <td>5.000000</td>\n",
       "      <td>5.000000</td>\n",
       "    </tr>\n",
       "    <tr>\n",
       "      <th>mean</th>\n",
       "      <td>0.234531</td>\n",
       "      <td>0.660015</td>\n",
       "      <td>-0.461502</td>\n",
       "      <td>0.022177</td>\n",
       "    </tr>\n",
       "    <tr>\n",
       "      <th>std</th>\n",
       "      <td>1.226422</td>\n",
       "      <td>1.041479</td>\n",
       "      <td>0.776787</td>\n",
       "      <td>0.899864</td>\n",
       "    </tr>\n",
       "    <tr>\n",
       "      <th>min</th>\n",
       "      <td>-1.585877</td>\n",
       "      <td>-0.559118</td>\n",
       "      <td>-1.273924</td>\n",
       "      <td>-1.217564</td>\n",
       "    </tr>\n",
       "    <tr>\n",
       "      <th>25%</th>\n",
       "      <td>-0.431620</td>\n",
       "      <td>-0.006670</td>\n",
       "      <td>-1.130987</td>\n",
       "      <td>-0.282012</td>\n",
       "    </tr>\n",
       "    <tr>\n",
       "      <th>50%</th>\n",
       "      <td>0.771956</td>\n",
       "      <td>0.628227</td>\n",
       "      <td>-0.502668</td>\n",
       "      <td>-0.108157</td>\n",
       "    </tr>\n",
       "    <tr>\n",
       "      <th>75%</th>\n",
       "      <td>1.021466</td>\n",
       "      <td>1.085737</td>\n",
       "      <td>0.031907</td>\n",
       "      <td>0.550309</td>\n",
       "    </tr>\n",
       "    <tr>\n",
       "      <th>max</th>\n",
       "      <td>1.396732</td>\n",
       "      <td>2.151897</td>\n",
       "      <td>0.568162</td>\n",
       "      <td>1.168309</td>\n",
       "    </tr>\n",
       "  </tbody>\n",
       "</table>\n",
       "</div>"
      ],
      "text/plain": [
       "              A         B         C         D\n",
       "count  5.000000  5.000000  5.000000  5.000000\n",
       "mean   0.234531  0.660015 -0.461502  0.022177\n",
       "std    1.226422  1.041479  0.776787  0.899864\n",
       "min   -1.585877 -0.559118 -1.273924 -1.217564\n",
       "25%   -0.431620 -0.006670 -1.130987 -0.282012\n",
       "50%    0.771956  0.628227 -0.502668 -0.108157\n",
       "75%    1.021466  1.085737  0.031907  0.550309\n",
       "max    1.396732  2.151897  0.568162  1.168309"
      ]
     },
     "execution_count": 74,
     "metadata": {},
     "output_type": "execute_result"
    }
   ],
   "source": [
    "df_A.describe()"
   ]
  },
  {
   "cell_type": "markdown",
   "id": "brazilian-force",
   "metadata": {},
   "source": [
    "## 9.sorting\n",
    "\n",
    "df_A를 이용해서, column C 기준으로 내림차순 정렬한 결과를 출력하는 코드를 작성해보세요."
   ]
  },
  {
   "cell_type": "code",
   "execution_count": 75,
   "id": "closing-socket",
   "metadata": {},
   "outputs": [
    {
     "data": {
      "text/html": [
       "<div>\n",
       "<style scoped>\n",
       "    .dataframe tbody tr th:only-of-type {\n",
       "        vertical-align: middle;\n",
       "    }\n",
       "\n",
       "    .dataframe tbody tr th {\n",
       "        vertical-align: top;\n",
       "    }\n",
       "\n",
       "    .dataframe thead th {\n",
       "        text-align: right;\n",
       "    }\n",
       "</style>\n",
       "<table border=\"1\" class=\"dataframe\">\n",
       "  <thead>\n",
       "    <tr style=\"text-align: right;\">\n",
       "      <th></th>\n",
       "      <th>A</th>\n",
       "      <th>B</th>\n",
       "      <th>C</th>\n",
       "      <th>D</th>\n",
       "    </tr>\n",
       "  </thead>\n",
       "  <tbody>\n",
       "    <tr>\n",
       "      <th>2020-01-01</th>\n",
       "      <td>1.021466</td>\n",
       "      <td>-0.559118</td>\n",
       "      <td>-1.130987</td>\n",
       "      <td>-1.217564</td>\n",
       "    </tr>\n",
       "    <tr>\n",
       "      <th>2020-01-02</th>\n",
       "      <td>0.771956</td>\n",
       "      <td>0.628227</td>\n",
       "      <td>-1.273924</td>\n",
       "      <td>1.168309</td>\n",
       "    </tr>\n",
       "    <tr>\n",
       "      <th>2020-01-03</th>\n",
       "      <td>-0.431620</td>\n",
       "      <td>-0.006670</td>\n",
       "      <td>0.568162</td>\n",
       "      <td>-0.282012</td>\n",
       "    </tr>\n",
       "    <tr>\n",
       "      <th>2020-01-04</th>\n",
       "      <td>1.396732</td>\n",
       "      <td>2.151897</td>\n",
       "      <td>-0.502668</td>\n",
       "      <td>0.550309</td>\n",
       "    </tr>\n",
       "    <tr>\n",
       "      <th>2020-01-05</th>\n",
       "      <td>-1.585877</td>\n",
       "      <td>1.085737</td>\n",
       "      <td>0.031907</td>\n",
       "      <td>-0.108157</td>\n",
       "    </tr>\n",
       "  </tbody>\n",
       "</table>\n",
       "</div>"
      ],
      "text/plain": [
       "                   A         B         C         D\n",
       "2020-01-01  1.021466 -0.559118 -1.130987 -1.217564\n",
       "2020-01-02  0.771956  0.628227 -1.273924  1.168309\n",
       "2020-01-03 -0.431620 -0.006670  0.568162 -0.282012\n",
       "2020-01-04  1.396732  2.151897 -0.502668  0.550309\n",
       "2020-01-05 -1.585877  1.085737  0.031907 -0.108157"
      ]
     },
     "execution_count": 75,
     "metadata": {},
     "output_type": "execute_result"
    }
   ],
   "source": [
    "df_A"
   ]
  },
  {
   "cell_type": "code",
   "execution_count": 79,
   "id": "controlling-contributor",
   "metadata": {},
   "outputs": [
    {
     "data": {
      "text/html": [
       "<div>\n",
       "<style scoped>\n",
       "    .dataframe tbody tr th:only-of-type {\n",
       "        vertical-align: middle;\n",
       "    }\n",
       "\n",
       "    .dataframe tbody tr th {\n",
       "        vertical-align: top;\n",
       "    }\n",
       "\n",
       "    .dataframe thead th {\n",
       "        text-align: right;\n",
       "    }\n",
       "</style>\n",
       "<table border=\"1\" class=\"dataframe\">\n",
       "  <thead>\n",
       "    <tr style=\"text-align: right;\">\n",
       "      <th></th>\n",
       "      <th>A</th>\n",
       "      <th>B</th>\n",
       "      <th>C</th>\n",
       "      <th>D</th>\n",
       "    </tr>\n",
       "  </thead>\n",
       "  <tbody>\n",
       "    <tr>\n",
       "      <th>2020-01-03</th>\n",
       "      <td>-0.431620</td>\n",
       "      <td>-0.006670</td>\n",
       "      <td>0.568162</td>\n",
       "      <td>-0.282012</td>\n",
       "    </tr>\n",
       "    <tr>\n",
       "      <th>2020-01-05</th>\n",
       "      <td>-1.585877</td>\n",
       "      <td>1.085737</td>\n",
       "      <td>0.031907</td>\n",
       "      <td>-0.108157</td>\n",
       "    </tr>\n",
       "    <tr>\n",
       "      <th>2020-01-04</th>\n",
       "      <td>1.396732</td>\n",
       "      <td>2.151897</td>\n",
       "      <td>-0.502668</td>\n",
       "      <td>0.550309</td>\n",
       "    </tr>\n",
       "    <tr>\n",
       "      <th>2020-01-01</th>\n",
       "      <td>1.021466</td>\n",
       "      <td>-0.559118</td>\n",
       "      <td>-1.130987</td>\n",
       "      <td>-1.217564</td>\n",
       "    </tr>\n",
       "    <tr>\n",
       "      <th>2020-01-02</th>\n",
       "      <td>0.771956</td>\n",
       "      <td>0.628227</td>\n",
       "      <td>-1.273924</td>\n",
       "      <td>1.168309</td>\n",
       "    </tr>\n",
       "  </tbody>\n",
       "</table>\n",
       "</div>"
      ],
      "text/plain": [
       "                   A         B         C         D\n",
       "2020-01-03 -0.431620 -0.006670  0.568162 -0.282012\n",
       "2020-01-05 -1.585877  1.085737  0.031907 -0.108157\n",
       "2020-01-04  1.396732  2.151897 -0.502668  0.550309\n",
       "2020-01-01  1.021466 -0.559118 -1.130987 -1.217564\n",
       "2020-01-02  0.771956  0.628227 -1.273924  1.168309"
      ]
     },
     "execution_count": 79,
     "metadata": {},
     "output_type": "execute_result"
    }
   ],
   "source": [
    "df_A.sort_values(by=['C'],ascending = [False])"
   ]
  },
  {
   "cell_type": "markdown",
   "id": "global-crawford",
   "metadata": {},
   "source": [
    "## 10.indexing (1)\n",
    "\n",
    "df_A를 이용해서, column A(A열)를 출력하는 코드를 작성해보세요."
   ]
  },
  {
   "cell_type": "code",
   "execution_count": 87,
   "id": "desirable-enclosure",
   "metadata": {},
   "outputs": [
    {
     "data": {
      "text/plain": [
       "2020-01-01    1.021466\n",
       "2020-01-02    0.771956\n",
       "2020-01-03   -0.431620\n",
       "2020-01-04    1.396732\n",
       "2020-01-05   -1.585877\n",
       "Freq: D, Name: A, dtype: float64"
      ]
     },
     "execution_count": 87,
     "metadata": {},
     "output_type": "execute_result"
    }
   ],
   "source": [
    "df_A['A']"
   ]
  },
  {
   "cell_type": "markdown",
   "id": "different-oracle",
   "metadata": {},
   "source": [
    "## 11.indexing (2)\n",
    "\n",
    "df_A를 이용해서,\n",
    "\n",
    "1. 3번째 행의 원소들,\n",
    "\n",
    "2. index가 2020-01-05에 해당하는 행\n",
    "\n",
    "을 출력하는 코드를 작성해보세요."
   ]
  },
  {
   "cell_type": "code",
   "execution_count": 95,
   "id": "partial-savings",
   "metadata": {},
   "outputs": [
    {
     "data": {
      "text/html": [
       "<div>\n",
       "<style scoped>\n",
       "    .dataframe tbody tr th:only-of-type {\n",
       "        vertical-align: middle;\n",
       "    }\n",
       "\n",
       "    .dataframe tbody tr th {\n",
       "        vertical-align: top;\n",
       "    }\n",
       "\n",
       "    .dataframe thead th {\n",
       "        text-align: right;\n",
       "    }\n",
       "</style>\n",
       "<table border=\"1\" class=\"dataframe\">\n",
       "  <thead>\n",
       "    <tr style=\"text-align: right;\">\n",
       "      <th></th>\n",
       "      <th>A</th>\n",
       "      <th>B</th>\n",
       "      <th>C</th>\n",
       "      <th>D</th>\n",
       "    </tr>\n",
       "  </thead>\n",
       "  <tbody>\n",
       "    <tr>\n",
       "      <th>2020-01-01</th>\n",
       "      <td>1.021466</td>\n",
       "      <td>-0.559118</td>\n",
       "      <td>-1.130987</td>\n",
       "      <td>-1.217564</td>\n",
       "    </tr>\n",
       "    <tr>\n",
       "      <th>2020-01-02</th>\n",
       "      <td>0.771956</td>\n",
       "      <td>0.628227</td>\n",
       "      <td>-1.273924</td>\n",
       "      <td>1.168309</td>\n",
       "    </tr>\n",
       "    <tr>\n",
       "      <th>2020-01-03</th>\n",
       "      <td>-0.431620</td>\n",
       "      <td>-0.006670</td>\n",
       "      <td>0.568162</td>\n",
       "      <td>-0.282012</td>\n",
       "    </tr>\n",
       "    <tr>\n",
       "      <th>2020-01-04</th>\n",
       "      <td>1.396732</td>\n",
       "      <td>2.151897</td>\n",
       "      <td>-0.502668</td>\n",
       "      <td>0.550309</td>\n",
       "    </tr>\n",
       "    <tr>\n",
       "      <th>2020-01-05</th>\n",
       "      <td>-1.585877</td>\n",
       "      <td>1.085737</td>\n",
       "      <td>0.031907</td>\n",
       "      <td>-0.108157</td>\n",
       "    </tr>\n",
       "  </tbody>\n",
       "</table>\n",
       "</div>"
      ],
      "text/plain": [
       "                   A         B         C         D\n",
       "2020-01-01  1.021466 -0.559118 -1.130987 -1.217564\n",
       "2020-01-02  0.771956  0.628227 -1.273924  1.168309\n",
       "2020-01-03 -0.431620 -0.006670  0.568162 -0.282012\n",
       "2020-01-04  1.396732  2.151897 -0.502668  0.550309\n",
       "2020-01-05 -1.585877  1.085737  0.031907 -0.108157"
      ]
     },
     "execution_count": 95,
     "metadata": {},
     "output_type": "execute_result"
    }
   ],
   "source": [
    "df_A"
   ]
  },
  {
   "cell_type": "code",
   "execution_count": 99,
   "id": "square-block",
   "metadata": {},
   "outputs": [
    {
     "data": {
      "text/plain": [
       "A   -0.431620\n",
       "B   -0.006670\n",
       "C    0.568162\n",
       "D   -0.282012\n",
       "Name: 2020-01-03 00:00:00, dtype: float64"
      ]
     },
     "execution_count": 99,
     "metadata": {},
     "output_type": "execute_result"
    }
   ],
   "source": [
    "df_A.iloc[2,:]"
   ]
  },
  {
   "cell_type": "code",
   "execution_count": 100,
   "id": "green-poland",
   "metadata": {},
   "outputs": [
    {
     "data": {
      "text/plain": [
       "A   -0.431620\n",
       "B   -0.006670\n",
       "C    0.568162\n",
       "D   -0.282012\n",
       "Name: 2020-01-03 00:00:00, dtype: float64"
      ]
     },
     "execution_count": 100,
     "metadata": {},
     "output_type": "execute_result"
    }
   ],
   "source": [
    "df_A.loc['2020-01-03',:]"
   ]
  },
  {
   "cell_type": "code",
   "execution_count": 112,
   "id": "fabulous-surname",
   "metadata": {},
   "outputs": [
    {
     "data": {
      "text/plain": [
       "A   -1.585877\n",
       "B    1.085737\n",
       "C    0.031907\n",
       "D   -0.108157\n",
       "Name: 2020-01-05 00:00:00, dtype: float64"
      ]
     },
     "execution_count": 112,
     "metadata": {},
     "output_type": "execute_result"
    }
   ],
   "source": [
    "df_A.loc['2020-01-05',:]"
   ]
  },
  {
   "cell_type": "markdown",
   "id": "korean-advice",
   "metadata": {},
   "source": [
    "## 12.indexing (3)\n",
    "\n",
    "df_A를 이용해서, 2020년 1월 2일부터 2020년 1월 4일까지의 데이터중에 column A, B에 해당하는 데이터를 출력하는 코드를 작성해보세요."
   ]
  },
  {
   "cell_type": "code",
   "execution_count": 113,
   "id": "substantial-richmond",
   "metadata": {},
   "outputs": [
    {
     "data": {
      "text/html": [
       "<div>\n",
       "<style scoped>\n",
       "    .dataframe tbody tr th:only-of-type {\n",
       "        vertical-align: middle;\n",
       "    }\n",
       "\n",
       "    .dataframe tbody tr th {\n",
       "        vertical-align: top;\n",
       "    }\n",
       "\n",
       "    .dataframe thead th {\n",
       "        text-align: right;\n",
       "    }\n",
       "</style>\n",
       "<table border=\"1\" class=\"dataframe\">\n",
       "  <thead>\n",
       "    <tr style=\"text-align: right;\">\n",
       "      <th></th>\n",
       "      <th>A</th>\n",
       "      <th>B</th>\n",
       "    </tr>\n",
       "  </thead>\n",
       "  <tbody>\n",
       "    <tr>\n",
       "      <th>2020-01-02</th>\n",
       "      <td>0.771956</td>\n",
       "      <td>0.628227</td>\n",
       "    </tr>\n",
       "    <tr>\n",
       "      <th>2020-01-03</th>\n",
       "      <td>-0.431620</td>\n",
       "      <td>-0.006670</td>\n",
       "    </tr>\n",
       "    <tr>\n",
       "      <th>2020-01-04</th>\n",
       "      <td>1.396732</td>\n",
       "      <td>2.151897</td>\n",
       "    </tr>\n",
       "  </tbody>\n",
       "</table>\n",
       "</div>"
      ],
      "text/plain": [
       "                   A         B\n",
       "2020-01-02  0.771956  0.628227\n",
       "2020-01-03 -0.431620 -0.006670\n",
       "2020-01-04  1.396732  2.151897"
      ]
     },
     "execution_count": 113,
     "metadata": {},
     "output_type": "execute_result"
    }
   ],
   "source": [
    "df_A[[\"A\",\"B\"]][1:4] ## 2개 이상의 열을 인덱싱할 때는 \"대괄호\"임을 명시하자"
   ]
  },
  {
   "cell_type": "markdown",
   "id": "aquatic-monroe",
   "metadata": {},
   "source": [
    "## 13.indexing (4)\n",
    "\n",
    "df_A에서 0보다 큰 데이터를 모두 출력하는 코드를 작성하세요.\n",
    "\n",
    "(해당 데이터가 조건에 해당되지 않아 빈 칸일때 NaN으로 출력됩니다. NaN은 Not a Number 라는 의미입니다.)"
   ]
  },
  {
   "cell_type": "code",
   "execution_count": 119,
   "id": "juvenile-contrast",
   "metadata": {},
   "outputs": [
    {
     "data": {
      "text/html": [
       "<div>\n",
       "<style scoped>\n",
       "    .dataframe tbody tr th:only-of-type {\n",
       "        vertical-align: middle;\n",
       "    }\n",
       "\n",
       "    .dataframe tbody tr th {\n",
       "        vertical-align: top;\n",
       "    }\n",
       "\n",
       "    .dataframe thead th {\n",
       "        text-align: right;\n",
       "    }\n",
       "</style>\n",
       "<table border=\"1\" class=\"dataframe\">\n",
       "  <thead>\n",
       "    <tr style=\"text-align: right;\">\n",
       "      <th></th>\n",
       "      <th>A</th>\n",
       "      <th>B</th>\n",
       "      <th>C</th>\n",
       "      <th>D</th>\n",
       "    </tr>\n",
       "  </thead>\n",
       "  <tbody>\n",
       "    <tr>\n",
       "      <th>2020-01-01</th>\n",
       "      <td>1.021466</td>\n",
       "      <td>NaN</td>\n",
       "      <td>NaN</td>\n",
       "      <td>NaN</td>\n",
       "    </tr>\n",
       "    <tr>\n",
       "      <th>2020-01-02</th>\n",
       "      <td>0.771956</td>\n",
       "      <td>0.628227</td>\n",
       "      <td>NaN</td>\n",
       "      <td>1.168309</td>\n",
       "    </tr>\n",
       "    <tr>\n",
       "      <th>2020-01-03</th>\n",
       "      <td>NaN</td>\n",
       "      <td>NaN</td>\n",
       "      <td>0.568162</td>\n",
       "      <td>NaN</td>\n",
       "    </tr>\n",
       "    <tr>\n",
       "      <th>2020-01-04</th>\n",
       "      <td>1.396732</td>\n",
       "      <td>2.151897</td>\n",
       "      <td>NaN</td>\n",
       "      <td>0.550309</td>\n",
       "    </tr>\n",
       "    <tr>\n",
       "      <th>2020-01-05</th>\n",
       "      <td>NaN</td>\n",
       "      <td>1.085737</td>\n",
       "      <td>0.031907</td>\n",
       "      <td>NaN</td>\n",
       "    </tr>\n",
       "  </tbody>\n",
       "</table>\n",
       "</div>"
      ],
      "text/plain": [
       "                   A         B         C         D\n",
       "2020-01-01  1.021466       NaN       NaN       NaN\n",
       "2020-01-02  0.771956  0.628227       NaN  1.168309\n",
       "2020-01-03       NaN       NaN  0.568162       NaN\n",
       "2020-01-04  1.396732  2.151897       NaN  0.550309\n",
       "2020-01-05       NaN  1.085737  0.031907       NaN"
      ]
     },
     "execution_count": 119,
     "metadata": {},
     "output_type": "execute_result"
    }
   ],
   "source": [
    "df_A[df_A > 0]"
   ]
  },
  {
   "cell_type": "markdown",
   "id": "australian-lawsuit",
   "metadata": {},
   "source": [
    "## 14.concat (1)\n",
    "\n",
    "위-아래로 합쳐진 DataFrame을 생성하는 코드를 작성해보세요."
   ]
  },
  {
   "cell_type": "code",
   "execution_count": 124,
   "id": "given-attachment",
   "metadata": {},
   "outputs": [
    {
     "data": {
      "text/html": [
       "<div>\n",
       "<style scoped>\n",
       "    .dataframe tbody tr th:only-of-type {\n",
       "        vertical-align: middle;\n",
       "    }\n",
       "\n",
       "    .dataframe tbody tr th {\n",
       "        vertical-align: top;\n",
       "    }\n",
       "\n",
       "    .dataframe thead th {\n",
       "        text-align: right;\n",
       "    }\n",
       "</style>\n",
       "<table border=\"1\" class=\"dataframe\">\n",
       "  <thead>\n",
       "    <tr style=\"text-align: right;\">\n",
       "      <th></th>\n",
       "      <th>A</th>\n",
       "      <th>B</th>\n",
       "      <th>C</th>\n",
       "    </tr>\n",
       "  </thead>\n",
       "  <tbody>\n",
       "    <tr>\n",
       "      <th>0</th>\n",
       "      <td>1</td>\n",
       "      <td>3</td>\n",
       "      <td>5</td>\n",
       "    </tr>\n",
       "    <tr>\n",
       "      <th>1</th>\n",
       "      <td>2</td>\n",
       "      <td>4</td>\n",
       "      <td>6</td>\n",
       "    </tr>\n",
       "  </tbody>\n",
       "</table>\n",
       "</div>"
      ],
      "text/plain": [
       "   A  B  C\n",
       "0  1  3  5\n",
       "1  2  4  6"
      ]
     },
     "execution_count": 124,
     "metadata": {},
     "output_type": "execute_result"
    }
   ],
   "source": [
    "df_1 = {'A':[1,2],\n",
    "        'B':[3,4],\n",
    "        'C':[5,6]}\n",
    "df_a = pd.DataFrame(df_1)\n",
    "df_a"
   ]
  },
  {
   "cell_type": "code",
   "execution_count": 125,
   "id": "certified-methodology",
   "metadata": {},
   "outputs": [
    {
     "data": {
      "text/html": [
       "<div>\n",
       "<style scoped>\n",
       "    .dataframe tbody tr th:only-of-type {\n",
       "        vertical-align: middle;\n",
       "    }\n",
       "\n",
       "    .dataframe tbody tr th {\n",
       "        vertical-align: top;\n",
       "    }\n",
       "\n",
       "    .dataframe thead th {\n",
       "        text-align: right;\n",
       "    }\n",
       "</style>\n",
       "<table border=\"1\" class=\"dataframe\">\n",
       "  <thead>\n",
       "    <tr style=\"text-align: right;\">\n",
       "      <th></th>\n",
       "      <th>A</th>\n",
       "      <th>B</th>\n",
       "      <th>C</th>\n",
       "    </tr>\n",
       "  </thead>\n",
       "  <tbody>\n",
       "    <tr>\n",
       "      <th>0</th>\n",
       "      <td>-1</td>\n",
       "      <td>-3</td>\n",
       "      <td>-5</td>\n",
       "    </tr>\n",
       "    <tr>\n",
       "      <th>1</th>\n",
       "      <td>-2</td>\n",
       "      <td>-4</td>\n",
       "      <td>-6</td>\n",
       "    </tr>\n",
       "  </tbody>\n",
       "</table>\n",
       "</div>"
      ],
      "text/plain": [
       "   A  B  C\n",
       "0 -1 -3 -5\n",
       "1 -2 -4 -6"
      ]
     },
     "execution_count": 125,
     "metadata": {},
     "output_type": "execute_result"
    }
   ],
   "source": [
    "df_2 = {'A':[-1,-2],\n",
    "        'B':[-3,-4],\n",
    "        'C':[-5,-6]}\n",
    "df_b = pd.DataFrame(df_2)\n",
    "df_b"
   ]
  },
  {
   "cell_type": "code",
   "execution_count": 127,
   "id": "twenty-redhead",
   "metadata": {},
   "outputs": [
    {
     "data": {
      "text/html": [
       "<div>\n",
       "<style scoped>\n",
       "    .dataframe tbody tr th:only-of-type {\n",
       "        vertical-align: middle;\n",
       "    }\n",
       "\n",
       "    .dataframe tbody tr th {\n",
       "        vertical-align: top;\n",
       "    }\n",
       "\n",
       "    .dataframe thead th {\n",
       "        text-align: right;\n",
       "    }\n",
       "</style>\n",
       "<table border=\"1\" class=\"dataframe\">\n",
       "  <thead>\n",
       "    <tr style=\"text-align: right;\">\n",
       "      <th></th>\n",
       "      <th>A</th>\n",
       "      <th>B</th>\n",
       "      <th>C</th>\n",
       "    </tr>\n",
       "  </thead>\n",
       "  <tbody>\n",
       "    <tr>\n",
       "      <th>0</th>\n",
       "      <td>1</td>\n",
       "      <td>3</td>\n",
       "      <td>5</td>\n",
       "    </tr>\n",
       "    <tr>\n",
       "      <th>1</th>\n",
       "      <td>2</td>\n",
       "      <td>4</td>\n",
       "      <td>6</td>\n",
       "    </tr>\n",
       "    <tr>\n",
       "      <th>0</th>\n",
       "      <td>-1</td>\n",
       "      <td>-3</td>\n",
       "      <td>-5</td>\n",
       "    </tr>\n",
       "    <tr>\n",
       "      <th>1</th>\n",
       "      <td>-2</td>\n",
       "      <td>-4</td>\n",
       "      <td>-6</td>\n",
       "    </tr>\n",
       "  </tbody>\n",
       "</table>\n",
       "</div>"
      ],
      "text/plain": [
       "   A  B  C\n",
       "0  1  3  5\n",
       "1  2  4  6\n",
       "0 -1 -3 -5\n",
       "1 -2 -4 -6"
      ]
     },
     "execution_count": 127,
     "metadata": {},
     "output_type": "execute_result"
    }
   ],
   "source": [
    "result = pd.concat([df_a,df_b])\n",
    "result"
   ]
  },
  {
   "cell_type": "markdown",
   "id": "activated-drink",
   "metadata": {},
   "source": [
    "## 15.concat (2)\n",
    "\n",
    "양옆으로 합쳐진 DataFrame을 생성하는 코드를 작성해보세요."
   ]
  },
  {
   "cell_type": "code",
   "execution_count": 129,
   "id": "limited-zambia",
   "metadata": {},
   "outputs": [
    {
     "data": {
      "text/html": [
       "<div>\n",
       "<style scoped>\n",
       "    .dataframe tbody tr th:only-of-type {\n",
       "        vertical-align: middle;\n",
       "    }\n",
       "\n",
       "    .dataframe tbody tr th {\n",
       "        vertical-align: top;\n",
       "    }\n",
       "\n",
       "    .dataframe thead th {\n",
       "        text-align: right;\n",
       "    }\n",
       "</style>\n",
       "<table border=\"1\" class=\"dataframe\">\n",
       "  <thead>\n",
       "    <tr style=\"text-align: right;\">\n",
       "      <th></th>\n",
       "      <th>A</th>\n",
       "      <th>B</th>\n",
       "      <th>C</th>\n",
       "      <th>A</th>\n",
       "      <th>B</th>\n",
       "      <th>C</th>\n",
       "    </tr>\n",
       "  </thead>\n",
       "  <tbody>\n",
       "    <tr>\n",
       "      <th>0</th>\n",
       "      <td>1</td>\n",
       "      <td>3</td>\n",
       "      <td>5</td>\n",
       "      <td>-1</td>\n",
       "      <td>-3</td>\n",
       "      <td>-5</td>\n",
       "    </tr>\n",
       "    <tr>\n",
       "      <th>1</th>\n",
       "      <td>2</td>\n",
       "      <td>4</td>\n",
       "      <td>6</td>\n",
       "      <td>-2</td>\n",
       "      <td>-4</td>\n",
       "      <td>-6</td>\n",
       "    </tr>\n",
       "  </tbody>\n",
       "</table>\n",
       "</div>"
      ],
      "text/plain": [
       "   A  B  C  A  B  C\n",
       "0  1  3  5 -1 -3 -5\n",
       "1  2  4  6 -2 -4 -6"
      ]
     },
     "execution_count": 129,
     "metadata": {},
     "output_type": "execute_result"
    }
   ],
   "source": [
    "pd.concat([df_a,df_b],axis=1)"
   ]
  }
 ],
 "metadata": {
  "kernelspec": {
   "display_name": "Python 3",
   "language": "python",
   "name": "python3"
  },
  "language_info": {
   "codemirror_mode": {
    "name": "ipython",
    "version": 3
   },
   "file_extension": ".py",
   "mimetype": "text/x-python",
   "name": "python",
   "nbconvert_exporter": "python",
   "pygments_lexer": "ipython3",
   "version": "3.6.12"
  }
 },
 "nbformat": 4,
 "nbformat_minor": 5
}
